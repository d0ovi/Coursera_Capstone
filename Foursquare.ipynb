{
 "cells": [
  {
   "cell_type": "markdown",
   "metadata": {
    "button": false,
    "deletable": true,
    "new_sheet": false,
    "run_control": {
     "read_only": false
    }
   },
   "source": [
    "<a href=\"https://cognitiveclass.ai\"><img src = \"https://ibm.box.com/shared/static/9gegpsmnsoo25ikkbl4qzlvlyjbgxs5x.png\" width = 400> </a>\n",
    "\n",
    "<h1 align=center><font size = 5>Learning FourSquare API with Python</font></h1>"
   ]
  },
  {
   "cell_type": "markdown",
   "metadata": {
    "button": false,
    "deletable": true,
    "new_sheet": false,
    "run_control": {
     "read_only": false
    }
   },
   "source": [
    "   "
   ]
  },
  {
   "cell_type": "markdown",
   "metadata": {
    "button": false,
    "deletable": true,
    "new_sheet": false,
    "run_control": {
     "read_only": false
    }
   },
   "source": [
    "## Introduction\n",
    "\n",
    "In this lab, you will learn in details how to make calls to the Foursquare API for different purposes. You will learn how to construct a URL to send a request to the API to search for a specific type of venues, to explore a particular venue, to explore a Foursquare user, to explore a geographical location, and to get trending venues around a location. Also, you will learn how to use the visualization library, Folium, to visualize the results."
   ]
  },
  {
   "cell_type": "markdown",
   "metadata": {
    "button": false,
    "deletable": true,
    "new_sheet": false,
    "run_control": {
     "read_only": false
    }
   },
   "source": [
    "## Table of Contents\n",
    "\n",
    "1. <a href=\"#item1\">Foursquare API Search Function</a>\n",
    "2. <a href=\"#item2\">Explore a Given Venue</a>  \n",
    "3. <a href=\"#item3\">Explore a User</a>  \n",
    "4. <a href=\"#item4\">Foursquare API Explore Function</a>  \n",
    "5. <a href=\"#item5\">Get Trending Venues</a>  "
   ]
  },
  {
   "cell_type": "markdown",
   "metadata": {
    "button": false,
    "deletable": true,
    "new_sheet": false,
    "run_control": {
     "read_only": false
    }
   },
   "source": [
    "### Import necessary Libraries"
   ]
  },
  {
   "cell_type": "code",
   "execution_count": 4,
   "metadata": {
    "tags": []
   },
   "outputs": [],
   "source": [
    "#!pip install requests"
   ]
  },
  {
   "cell_type": "code",
   "execution_count": 6,
   "metadata": {},
   "outputs": [],
   "source": [
    "import requests # library to handle requests\n",
    "import pandas as pd # library for data analsysis\n",
    "import numpy as np # library to handle data in a vectorized manner\n",
    "import random # library for random number generation"
   ]
  },
  {
   "cell_type": "code",
   "execution_count": 8,
   "metadata": {
    "tags": []
   },
   "outputs": [],
   "source": [
    "#!pip install geopy\n",
    "from geopy.geocoders import Nominatim # module to convert an address into latitude and longitude values"
   ]
  },
  {
   "cell_type": "code",
   "execution_count": 10,
   "metadata": {
    "button": false,
    "collapsed": false,
    "deletable": true,
    "new_sheet": false,
    "run_control": {
     "read_only": false
    },
    "tags": []
   },
   "outputs": [
    {
     "output_type": "stream",
     "name": "stdout",
     "text": "Folium installed\nLibraries imported.\n"
    }
   ],
   "source": [
    "# libraries for displaying images\n",
    "from IPython.display import Image \n",
    "from IPython.core.display import HTML \n",
    "    \n",
    "# tranforming json file into a pandas dataframe library\n",
    "from pandas.io.json import json_normalize\n",
    "\n",
    "#!pip install folium\n",
    "import folium # plotting library\n",
    "\n",
    "print('Folium installed')\n",
    "print('Libraries imported.')"
   ]
  },
  {
   "cell_type": "markdown",
   "metadata": {
    "button": false,
    "deletable": true,
    "new_sheet": false,
    "run_control": {
     "read_only": false
    }
   },
   "source": [
    "### Define Foursquare Credentials and Version"
   ]
  },
  {
   "cell_type": "markdown",
   "metadata": {
    "button": false,
    "deletable": true,
    "new_sheet": false,
    "run_control": {
     "read_only": false
    }
   },
   "source": [
    "##### Make sure that you have created a Foursquare developer account and have your credentials handy"
   ]
  },
  {
   "cell_type": "code",
   "execution_count": 12,
   "metadata": {
    "button": false,
    "collapsed": false,
    "deletable": true,
    "new_sheet": false,
    "run_control": {
     "read_only": false
    },
    "tags": []
   },
   "outputs": [
    {
     "output_type": "stream",
     "name": "stdout",
     "text": "Your credentails:\nCLIENT_ID: S4LEYBNHHAWL5XR3W5SRNX3ZKTHCLMY4QHKJ3YQI0XLPWSGR\nCLIENT_SECRET:ZRSRDS0A52KJHMIH3Y1BWGFEAHF3PRHX2RU3KHJRCTNCRULV\n"
    }
   ],
   "source": [
    "CLIENT_ID = 'S4LEYBNHHAWL5XR3W5SRNX3ZKTHCLMY4QHKJ3YQI0XLPWSGR' # your Foursquare ID\n",
    "CLIENT_SECRET = 'ZRSRDS0A52KJHMIH3Y1BWGFEAHF3PRHX2RU3KHJRCTNCRULV' # your Foursquare Secret\n",
    "VERSION = '20180604'\n",
    "LIMIT = 30\n",
    "print('Your credentails:')\n",
    "print('CLIENT_ID: ' + CLIENT_ID)\n",
    "print('CLIENT_SECRET:' + CLIENT_SECRET)"
   ]
  },
  {
   "cell_type": "markdown",
   "metadata": {
    "button": false,
    "deletable": true,
    "new_sheet": false,
    "run_control": {
     "read_only": false
    }
   },
   "source": [
    "  "
   ]
  },
  {
   "cell_type": "markdown",
   "metadata": {
    "button": false,
    "deletable": true,
    "new_sheet": false,
    "run_control": {
     "read_only": false
    }
   },
   "source": [
    "#### Let's again assume that you are staying at the Conrad hotel. So let's start by converting the Contrad Hotel's address to its latitude and longitude coordinates."
   ]
  },
  {
   "cell_type": "markdown",
   "metadata": {},
   "source": [
    "In order to define an instance of the geocoder, we need to define a user_agent. We will name our agent <em>foursquare_agent</em>, as shown below."
   ]
  },
  {
   "cell_type": "code",
   "execution_count": 14,
   "metadata": {
    "button": false,
    "collapsed": false,
    "deletable": true,
    "new_sheet": false,
    "run_control": {
     "read_only": false
    },
    "tags": []
   },
   "outputs": [
    {
     "output_type": "stream",
     "name": "stdout",
     "text": "40.7151482 -74.0156573\n"
    }
   ],
   "source": [
    "address = '102 North End Ave, New York, NY'\n",
    "\n",
    "geolocator = Nominatim(user_agent=\"foursquare_agent\")\n",
    "location = geolocator.geocode(address)\n",
    "latitude = location.latitude\n",
    "longitude = location.longitude\n",
    "print(latitude, longitude)"
   ]
  },
  {
   "cell_type": "markdown",
   "metadata": {
    "button": false,
    "deletable": true,
    "new_sheet": false,
    "run_control": {
     "read_only": false
    }
   },
   "source": [
    "   "
   ]
  },
  {
   "cell_type": "markdown",
   "metadata": {
    "button": false,
    "deletable": true,
    "new_sheet": false,
    "run_control": {
     "read_only": false
    }
   },
   "source": [
    "<a id=\"item1\"></a>"
   ]
  },
  {
   "cell_type": "markdown",
   "metadata": {
    "button": false,
    "deletable": true,
    "new_sheet": false,
    "run_control": {
     "read_only": false
    }
   },
   "source": [
    "## 1. Search for a specific venue category\n",
    "> `https://api.foursquare.com/v2/venues/`**search**`?client_id=`**CLIENT_ID**`&client_secret=`**CLIENT_SECRET**`&ll=`**LATITUDE**`,`**LONGITUDE**`&v=`**VERSION**`&query=`**QUERY**`&radius=`**RADIUS**`&limit=`**LIMIT**"
   ]
  },
  {
   "cell_type": "markdown",
   "metadata": {
    "button": false,
    "deletable": true,
    "new_sheet": false,
    "run_control": {
     "read_only": false
    }
   },
   "source": [
    "#### Now, let's assume that it is lunch time, and you are craving Italian food. So, let's define a query to search for Italian food that is within 500 metres from the Conrad Hotel. "
   ]
  },
  {
   "cell_type": "code",
   "execution_count": 16,
   "metadata": {
    "button": false,
    "collapsed": false,
    "deletable": true,
    "new_sheet": false,
    "run_control": {
     "read_only": false
    },
    "scrolled": true,
    "tags": []
   },
   "outputs": [
    {
     "output_type": "stream",
     "name": "stdout",
     "text": "Italian .... OK!\n"
    }
   ],
   "source": [
    "search_query = 'Italian'\n",
    "radius = 500\n",
    "print(search_query + ' .... OK!')"
   ]
  },
  {
   "cell_type": "markdown",
   "metadata": {
    "button": false,
    "deletable": true,
    "new_sheet": false,
    "run_control": {
     "read_only": false
    }
   },
   "source": [
    "#### Define the corresponding URL"
   ]
  },
  {
   "cell_type": "code",
   "execution_count": 18,
   "metadata": {
    "button": false,
    "collapsed": false,
    "deletable": true,
    "new_sheet": false,
    "run_control": {
     "read_only": false
    }
   },
   "outputs": [
    {
     "output_type": "execute_result",
     "data": {
      "text/plain": "'https://api.foursquare.com/v2/venues/search?client_id=S4LEYBNHHAWL5XR3W5SRNX3ZKTHCLMY4QHKJ3YQI0XLPWSGR&client_secret=ZRSRDS0A52KJHMIH3Y1BWGFEAHF3PRHX2RU3KHJRCTNCRULV&ll=40.7151482,-74.0156573&v=20180604&query=Italian&radius=500&limit=30'"
     },
     "metadata": {},
     "execution_count": 18
    }
   ],
   "source": [
    "url = 'https://api.foursquare.com/v2/venues/search?client_id={}&client_secret={}&ll={},{}&v={}&query={}&radius={}&limit={}'.format(CLIENT_ID, CLIENT_SECRET, latitude, longitude, VERSION, search_query, radius, LIMIT)\n",
    "url"
   ]
  },
  {
   "cell_type": "markdown",
   "metadata": {
    "button": false,
    "deletable": true,
    "new_sheet": false,
    "run_control": {
     "read_only": false
    }
   },
   "source": [
    "#### Send the GET Request and examine the results"
   ]
  },
  {
   "cell_type": "code",
   "execution_count": 20,
   "metadata": {
    "button": false,
    "collapsed": false,
    "deletable": true,
    "new_sheet": false,
    "run_control": {
     "read_only": false
    },
    "scrolled": true
   },
   "outputs": [
    {
     "output_type": "execute_result",
     "data": {
      "text/plain": "{'meta': {'code': 200, 'requestId': '5f0ddca8cedc4c5633f37776'},\n 'response': {'venues': [{'id': '4fa862b3e4b0ebff2f749f06',\n    'name': \"Harry's Italian Pizza Bar\",\n    'location': {'address': '225 Murray St',\n     'lat': 40.71521779064671,\n     'lng': -74.01473940209351,\n     'labeledLatLngs': [{'label': 'display',\n       'lat': 40.71521779064671,\n       'lng': -74.01473940209351},\n      {'label': 'entrance', 'lat': 40.715361, 'lng': -74.014975}],\n     'distance': 77,\n     'postalCode': '10282',\n     'cc': 'US',\n     'city': 'New York',\n     'state': 'NY',\n     'country': 'United States',\n     'formattedAddress': ['225 Murray St',\n      'New York, NY 10282',\n      'United States']},\n    'categories': [{'id': '4bf58dd8d48988d1ca941735',\n      'name': 'Pizza Place',\n      'pluralName': 'Pizza Places',\n      'shortName': 'Pizza',\n      'icon': {'prefix': 'https://ss3.4sqi.net/img/categories_v2/food/pizza_',\n       'suffix': '.png'},\n      'primary': True}],\n    'referralId': 'v-1594744010',\n    'hasPerk': False},\n   {'id': '4f3232e219836c91c7bfde94',\n    'name': 'Conca Cucina Italian Restaurant',\n    'location': {'address': '63 W Broadway',\n     'lat': 40.714484000000006,\n     'lng': -74.00980600000001,\n     'labeledLatLngs': [{'label': 'display',\n       'lat': 40.714484000000006,\n       'lng': -74.00980600000001}],\n     'distance': 499,\n     'postalCode': '10007',\n     'cc': 'US',\n     'city': 'New York',\n     'state': 'NY',\n     'country': 'United States',\n     'formattedAddress': ['63 W Broadway',\n      'New York, NY 10007',\n      'United States']},\n    'categories': [{'id': '4d4b7105d754a06374d81259',\n      'name': 'Food',\n      'pluralName': 'Food',\n      'shortName': 'Food',\n      'icon': {'prefix': 'https://ss3.4sqi.net/img/categories_v2/food/default_',\n       'suffix': '.png'},\n      'primary': True}],\n    'referralId': 'v-1594744010',\n    'hasPerk': False}]}}"
     },
     "metadata": {},
     "execution_count": 20
    }
   ],
   "source": [
    "results = requests.get(url).json()\n",
    "results"
   ]
  },
  {
   "cell_type": "markdown",
   "metadata": {
    "button": false,
    "deletable": true,
    "new_sheet": false,
    "run_control": {
     "read_only": false
    }
   },
   "source": [
    "#### Get relevant part of JSON and transform it into a *pandas* dataframe"
   ]
  },
  {
   "cell_type": "code",
   "execution_count": 22,
   "metadata": {
    "button": false,
    "collapsed": false,
    "deletable": true,
    "new_sheet": false,
    "run_control": {
     "read_only": false
    }
   },
   "outputs": [
    {
     "output_type": "execute_result",
     "data": {
      "text/plain": "                         id                             name  \\\n0  4fa862b3e4b0ebff2f749f06        Harry's Italian Pizza Bar   \n1  4f3232e219836c91c7bfde94  Conca Cucina Italian Restaurant   \n\n                                          categories    referralId  hasPerk  \\\n0  [{'id': '4bf58dd8d48988d1ca941735', 'name': 'P...  v-1594744010    False   \n1  [{'id': '4d4b7105d754a06374d81259', 'name': 'F...  v-1594744010    False   \n\n  location.address  location.lat  location.lng  \\\n0    225 Murray St     40.715218    -74.014739   \n1    63 W Broadway     40.714484    -74.009806   \n\n                             location.labeledLatLngs  location.distance  \\\n0  [{'label': 'display', 'lat': 40.71521779064671...                 77   \n1  [{'label': 'display', 'lat': 40.71448400000000...                499   \n\n  location.postalCode location.cc location.city location.state  \\\n0               10282          US      New York             NY   \n1               10007          US      New York             NY   \n\n  location.country                          location.formattedAddress  \n0    United States  [225 Murray St, New York, NY 10282, United Sta...  \n1    United States  [63 W Broadway, New York, NY 10007, United Sta...  ",
      "text/html": "<div>\n<style scoped>\n    .dataframe tbody tr th:only-of-type {\n        vertical-align: middle;\n    }\n\n    .dataframe tbody tr th {\n        vertical-align: top;\n    }\n\n    .dataframe thead th {\n        text-align: right;\n    }\n</style>\n<table border=\"1\" class=\"dataframe\">\n  <thead>\n    <tr style=\"text-align: right;\">\n      <th></th>\n      <th>id</th>\n      <th>name</th>\n      <th>categories</th>\n      <th>referralId</th>\n      <th>hasPerk</th>\n      <th>location.address</th>\n      <th>location.lat</th>\n      <th>location.lng</th>\n      <th>location.labeledLatLngs</th>\n      <th>location.distance</th>\n      <th>location.postalCode</th>\n      <th>location.cc</th>\n      <th>location.city</th>\n      <th>location.state</th>\n      <th>location.country</th>\n      <th>location.formattedAddress</th>\n    </tr>\n  </thead>\n  <tbody>\n    <tr>\n      <th>0</th>\n      <td>4fa862b3e4b0ebff2f749f06</td>\n      <td>Harry's Italian Pizza Bar</td>\n      <td>[{'id': '4bf58dd8d48988d1ca941735', 'name': 'P...</td>\n      <td>v-1594744010</td>\n      <td>False</td>\n      <td>225 Murray St</td>\n      <td>40.715218</td>\n      <td>-74.014739</td>\n      <td>[{'label': 'display', 'lat': 40.71521779064671...</td>\n      <td>77</td>\n      <td>10282</td>\n      <td>US</td>\n      <td>New York</td>\n      <td>NY</td>\n      <td>United States</td>\n      <td>[225 Murray St, New York, NY 10282, United Sta...</td>\n    </tr>\n    <tr>\n      <th>1</th>\n      <td>4f3232e219836c91c7bfde94</td>\n      <td>Conca Cucina Italian Restaurant</td>\n      <td>[{'id': '4d4b7105d754a06374d81259', 'name': 'F...</td>\n      <td>v-1594744010</td>\n      <td>False</td>\n      <td>63 W Broadway</td>\n      <td>40.714484</td>\n      <td>-74.009806</td>\n      <td>[{'label': 'display', 'lat': 40.71448400000000...</td>\n      <td>499</td>\n      <td>10007</td>\n      <td>US</td>\n      <td>New York</td>\n      <td>NY</td>\n      <td>United States</td>\n      <td>[63 W Broadway, New York, NY 10007, United Sta...</td>\n    </tr>\n  </tbody>\n</table>\n</div>"
     },
     "metadata": {},
     "execution_count": 22
    }
   ],
   "source": [
    "# assign relevant part of JSON to venues\n",
    "venues = results['response']['venues']\n",
    "\n",
    "# tranform venues into a dataframe\n",
    "dataframe = json_normalize(venues)\n",
    "dataframe.head()"
   ]
  },
  {
   "cell_type": "markdown",
   "metadata": {
    "button": false,
    "deletable": true,
    "new_sheet": false,
    "run_control": {
     "read_only": false
    }
   },
   "source": [
    "#### Define information of interest and filter dataframe"
   ]
  },
  {
   "cell_type": "code",
   "execution_count": 24,
   "metadata": {
    "button": false,
    "collapsed": false,
    "deletable": true,
    "new_sheet": false,
    "run_control": {
     "read_only": false
    },
    "scrolled": true
   },
   "outputs": [
    {
     "output_type": "execute_result",
     "data": {
      "text/plain": "                              name   categories        address        lat  \\\n0        Harry's Italian Pizza Bar  Pizza Place  225 Murray St  40.715218   \n1  Conca Cucina Italian Restaurant         Food  63 W Broadway  40.714484   \n\n         lng                                     labeledLatLngs  distance  \\\n0 -74.014739  [{'label': 'display', 'lat': 40.71521779064671...        77   \n1 -74.009806  [{'label': 'display', 'lat': 40.71448400000000...       499   \n\n  postalCode  cc      city state        country  \\\n0      10282  US  New York    NY  United States   \n1      10007  US  New York    NY  United States   \n\n                                    formattedAddress                        id  \n0  [225 Murray St, New York, NY 10282, United Sta...  4fa862b3e4b0ebff2f749f06  \n1  [63 W Broadway, New York, NY 10007, United Sta...  4f3232e219836c91c7bfde94  ",
      "text/html": "<div>\n<style scoped>\n    .dataframe tbody tr th:only-of-type {\n        vertical-align: middle;\n    }\n\n    .dataframe tbody tr th {\n        vertical-align: top;\n    }\n\n    .dataframe thead th {\n        text-align: right;\n    }\n</style>\n<table border=\"1\" class=\"dataframe\">\n  <thead>\n    <tr style=\"text-align: right;\">\n      <th></th>\n      <th>name</th>\n      <th>categories</th>\n      <th>address</th>\n      <th>lat</th>\n      <th>lng</th>\n      <th>labeledLatLngs</th>\n      <th>distance</th>\n      <th>postalCode</th>\n      <th>cc</th>\n      <th>city</th>\n      <th>state</th>\n      <th>country</th>\n      <th>formattedAddress</th>\n      <th>id</th>\n    </tr>\n  </thead>\n  <tbody>\n    <tr>\n      <th>0</th>\n      <td>Harry's Italian Pizza Bar</td>\n      <td>Pizza Place</td>\n      <td>225 Murray St</td>\n      <td>40.715218</td>\n      <td>-74.014739</td>\n      <td>[{'label': 'display', 'lat': 40.71521779064671...</td>\n      <td>77</td>\n      <td>10282</td>\n      <td>US</td>\n      <td>New York</td>\n      <td>NY</td>\n      <td>United States</td>\n      <td>[225 Murray St, New York, NY 10282, United Sta...</td>\n      <td>4fa862b3e4b0ebff2f749f06</td>\n    </tr>\n    <tr>\n      <th>1</th>\n      <td>Conca Cucina Italian Restaurant</td>\n      <td>Food</td>\n      <td>63 W Broadway</td>\n      <td>40.714484</td>\n      <td>-74.009806</td>\n      <td>[{'label': 'display', 'lat': 40.71448400000000...</td>\n      <td>499</td>\n      <td>10007</td>\n      <td>US</td>\n      <td>New York</td>\n      <td>NY</td>\n      <td>United States</td>\n      <td>[63 W Broadway, New York, NY 10007, United Sta...</td>\n      <td>4f3232e219836c91c7bfde94</td>\n    </tr>\n  </tbody>\n</table>\n</div>"
     },
     "metadata": {},
     "execution_count": 24
    }
   ],
   "source": [
    "# keep only columns that include venue name, and anything that is associated with location\n",
    "filtered_columns = ['name', 'categories'] + [col for col in dataframe.columns if col.startswith('location.')] + ['id']\n",
    "dataframe_filtered = dataframe.loc[:, filtered_columns]\n",
    "\n",
    "# function that extracts the category of the venue\n",
    "def get_category_type(row):\n",
    "    try:\n",
    "        categories_list = row['categories']\n",
    "    except:\n",
    "        categories_list = row['venue.categories']\n",
    "        \n",
    "    if len(categories_list) == 0:\n",
    "        return None\n",
    "    else:\n",
    "        return categories_list[0]['name']\n",
    "\n",
    "# filter the category for each row\n",
    "dataframe_filtered['categories'] = dataframe_filtered.apply(get_category_type, axis=1)\n",
    "\n",
    "# clean column names by keeping only last term\n",
    "dataframe_filtered.columns = [column.split('.')[-1] for column in dataframe_filtered.columns]\n",
    "\n",
    "dataframe_filtered"
   ]
  },
  {
   "cell_type": "markdown",
   "metadata": {
    "button": false,
    "deletable": true,
    "new_sheet": false,
    "run_control": {
     "read_only": false
    }
   },
   "source": [
    "#### Let's visualize the Italian restaurants that are nearby"
   ]
  },
  {
   "cell_type": "code",
   "execution_count": 26,
   "metadata": {
    "button": false,
    "collapsed": false,
    "deletable": true,
    "new_sheet": false,
    "run_control": {
     "read_only": false
    }
   },
   "outputs": [
    {
     "output_type": "execute_result",
     "data": {
      "text/plain": "0          Harry's Italian Pizza Bar\n1    Conca Cucina Italian Restaurant\nName: name, dtype: object"
     },
     "metadata": {},
     "execution_count": 26
    }
   ],
   "source": [
    "dataframe_filtered.name"
   ]
  },
  {
   "cell_type": "code",
   "execution_count": 28,
   "metadata": {
    "button": false,
    "collapsed": false,
    "deletable": true,
    "new_sheet": false,
    "run_control": {
     "read_only": false
    },
    "scrolled": false
   },
   "outputs": [
    {
     "output_type": "execute_result",
     "data": {
      "text/plain": "<folium.folium.Map at 0x148a7edeee0>",
      "text/html": "<div style=\"width:100%;\"><div style=\"position:relative;width:100%;height:0;padding-bottom:60%;\"><span style=\"color:#565656\">Make this Notebook Trusted to load map: File -> Trust Notebook</span><iframe src=\"about:blank\" style=\"position:absolute;width:100%;height:100%;left:0;top:0;border:none !important;\" data-html=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 onload=\"this.contentDocument.open();this.contentDocument.write(atob(this.getAttribute('data-html')));this.contentDocument.close();\" allowfullscreen webkitallowfullscreen mozallowfullscreen></iframe></div></div>"
     },
     "metadata": {},
     "execution_count": 28
    }
   ],
   "source": [
    "venues_map = folium.Map(location=[latitude, longitude], zoom_start=13) # generate map centred around the Conrad Hotel\n",
    "\n",
    "# add a red circle marker to represent the Conrad Hotel\n",
    "folium.CircleMarker(\n",
    "    [latitude, longitude],\n",
    "    radius=10,\n",
    "    color='red',\n",
    "    popup='Conrad Hotel',\n",
    "    fill = True,\n",
    "    fill_color = 'red',\n",
    "    fill_opacity = 0.6\n",
    ").add_to(venues_map)\n",
    "\n",
    "# add the Italian restaurants as blue circle markers\n",
    "for lat, lng, label in zip(dataframe_filtered.lat, dataframe_filtered.lng, dataframe_filtered.categories):\n",
    "    folium.CircleMarker(\n",
    "        [lat, lng],\n",
    "        radius=5,\n",
    "        color='blue',\n",
    "        popup=label,\n",
    "        fill = True,\n",
    "        fill_color='blue',\n",
    "        fill_opacity=0.6\n",
    "    ).add_to(venues_map)\n",
    "\n",
    "# display map\n",
    "venues_map"
   ]
  },
  {
   "cell_type": "markdown",
   "metadata": {
    "button": false,
    "deletable": true,
    "new_sheet": false,
    "run_control": {
     "read_only": false
    }
   },
   "source": [
    "### A. Let's explore the closest Italian restaurant -- _Harry's Italian Pizza Bar_"
   ]
  },
  {
   "cell_type": "code",
   "execution_count": 30,
   "metadata": {
    "button": false,
    "collapsed": false,
    "deletable": true,
    "new_sheet": false,
    "run_control": {
     "read_only": false
    }
   },
   "outputs": [
    {
     "output_type": "execute_result",
     "data": {
      "text/plain": "'https://api.foursquare.com/v2/venues/4fa862b3e4b0ebff2f749f06?client_id=S4LEYBNHHAWL5XR3W5SRNX3ZKTHCLMY4QHKJ3YQI0XLPWSGR&client_secret=ZRSRDS0A52KJHMIH3Y1BWGFEAHF3PRHX2RU3KHJRCTNCRULV&v=20180604'"
     },
     "metadata": {},
     "execution_count": 30
    }
   ],
   "source": [
    "venue_id = '4fa862b3e4b0ebff2f749f06' # ID of Harry's Italian Pizza Bar\n",
    "url = 'https://api.foursquare.com/v2/venues/{}?client_id={}&client_secret={}&v={}'.format(venue_id, CLIENT_ID, CLIENT_SECRET, VERSION)\n",
    "url"
   ]
  },
  {
   "cell_type": "markdown",
   "metadata": {
    "button": false,
    "deletable": true,
    "new_sheet": false,
    "run_control": {
     "read_only": false
    }
   },
   "source": [
    "#### Send GET request for result"
   ]
  },
  {
   "cell_type": "code",
   "execution_count": 32,
   "metadata": {
    "button": false,
    "collapsed": false,
    "deletable": true,
    "new_sheet": false,
    "run_control": {
     "read_only": false
    },
    "tags": []
   },
   "outputs": [
    {
     "output_type": "stream",
     "name": "stdout",
     "text": "dict_keys(['id', 'name', 'contact', 'location', 'canonicalUrl', 'categories', 'verified', 'stats', 'url', 'price', 'hasMenu', 'likes', 'dislike', 'ok', 'rating', 'ratingColor', 'ratingSignals', 'menu', 'allowMenuUrlEdit', 'beenHere', 'specials', 'photos', 'reasons', 'hereNow', 'createdAt', 'tips', 'shortUrl', 'timeZone', 'listed', 'hours', 'popular', 'seasonalHours', 'defaultHours', 'pageUpdates', 'inbox', 'attributes', 'bestPhoto', 'colors'])\n"
    },
    {
     "output_type": "execute_result",
     "data": {
      "text/plain": "{'id': '4fa862b3e4b0ebff2f749f06',\n 'name': \"Harry's Italian Pizza Bar\",\n 'contact': {'phone': '2126081007', 'formattedPhone': '(212) 608-1007'},\n 'location': {'address': '225 Murray St',\n  'lat': 40.71521779064671,\n  'lng': -74.01473940209351,\n  'labeledLatLngs': [{'label': 'display',\n    'lat': 40.71521779064671,\n    'lng': -74.01473940209351},\n   {'label': 'entrance', 'lat': 40.715361, 'lng': -74.014975}],\n  'postalCode': '10282',\n  'cc': 'US',\n  'city': 'New York',\n  'state': 'NY',\n  'country': 'United States',\n  'formattedAddress': ['225 Murray St',\n   'New York, NY 10282',\n   'United States']},\n 'canonicalUrl': 'https://foursquare.com/v/harrys-italian-pizza-bar/4fa862b3e4b0ebff2f749f06',\n 'categories': [{'id': '4bf58dd8d48988d1ca941735',\n   'name': 'Pizza Place',\n   'pluralName': 'Pizza Places',\n   'shortName': 'Pizza',\n   'icon': {'prefix': 'https://ss3.4sqi.net/img/categories_v2/food/pizza_',\n    'suffix': '.png'},\n   'primary': True},\n  {'id': '4bf58dd8d48988d110941735',\n   'name': 'Italian Restaurant',\n   'pluralName': 'Italian Restaurants',\n   'shortName': 'Italian',\n   'icon': {'prefix': 'https://ss3.4sqi.net/img/categories_v2/food/italian_',\n    'suffix': '.png'}}],\n 'verified': False,\n 'stats': {'tipCount': 57},\n 'url': 'http://harrysitalian.com',\n 'price': {'tier': 2, 'message': 'Moderate', 'currency': '$'},\n 'hasMenu': True,\n 'likes': {'count': 120,\n  'groups': [{'type': 'others', 'count': 120, 'items': []}],\n  'summary': '120 Likes'},\n 'dislike': False,\n 'ok': False,\n 'rating': 6.9,\n 'ratingColor': 'FFC800',\n 'ratingSignals': 212,\n 'menu': {'type': 'Menu',\n  'label': 'Menu',\n  'anchor': 'View Menu',\n  'url': 'https://foursquare.com/v/harrys-italian-pizza-bar/4fa862b3e4b0ebff2f749f06/menu',\n  'mobileUrl': 'https://foursquare.com/v/4fa862b3e4b0ebff2f749f06/device_menu'},\n 'allowMenuUrlEdit': True,\n 'beenHere': {'count': 0,\n  'unconfirmedCount': 0,\n  'marked': False,\n  'lastCheckinExpiredAt': 0},\n 'specials': {'count': 0, 'items': []},\n 'photos': {'count': 146,\n  'groups': [{'type': 'venue',\n    'name': 'Venue photos',\n    'count': 146,\n    'items': [{'id': '4fad980de4b091b4626c3633',\n      'createdAt': 1336776717,\n      'source': {'name': 'Foursquare for Android',\n       'url': 'https://foursquare.com/download/#/android'},\n      'prefix': 'https://fastly.4sqi.net/img/general/',\n      'suffix': '/ya1iQFI7pLjuIJp1PGDKlrZS3OJdHCF7tpILMmjv_2w.jpg',\n      'width': 480,\n      'height': 640,\n      'user': {'id': '13676709',\n       'firstName': 'Leony',\n       'lastName': 'N',\n       'photo': {'prefix': 'https://fastly.4sqi.net/img/user/',\n        'suffix': '/T0ANFNGNMCHUDEUE.jpg'}},\n      'visibility': 'public'},\n     {'id': '503139a5e4b021f7a5e9952a',\n      'createdAt': 1345403301,\n      'source': {'name': 'Foursquare for iOS',\n       'url': 'https://foursquare.com/download/#/iphone'},\n      'prefix': 'https://fastly.4sqi.net/img/general/',\n      'suffix': '/ox3MATx28ULVNhMemzwMx5ivrRPh0aIbowxREaHWzKA.jpg',\n      'width': 720,\n      'height': 540,\n      'user': {'id': '4434246',\n       'firstName': 'Gregory',\n       'lastName': 'L',\n       'photo': {'prefix': 'https://fastly.4sqi.net/img/user/',\n        'suffix': '/4XA1N04BRCPULL2M.jpg'}},\n      'visibility': 'public'}]}]},\n 'reasons': {'count': 1,\n  'items': [{'summary': 'Lots of people like this place',\n    'type': 'general',\n    'reasonName': 'rawLikesReason'}]},\n 'hereNow': {'count': 0, 'summary': 'Nobody here', 'groups': []},\n 'createdAt': 1336435379,\n 'tips': {'count': 57,\n  'groups': [{'type': 'others',\n    'name': 'All tips',\n    'count': 57,\n    'items': [{'id': '53d27909498e0523841340b6',\n      'createdAt': 1406302473,\n      'text': \"Harry's Italian Pizza bar is known for it's amazing pizza, but did you know that the brunches here are amazing too? Try the Nutella French toast and we know you'll be sold.\",\n      'type': 'user',\n      'canonicalUrl': 'https://foursquare.com/item/53d27909498e0523841340b6',\n      'lang': 'en',\n      'likes': {'count': 4,\n       'groups': [{'type': 'others',\n         'count': 4,\n         'items': [{'id': '369426',\n           'firstName': 'P.',\n           'lastName': 'M',\n           'photo': {'prefix': 'https://fastly.4sqi.net/img/user/',\n            'suffix': '/JPQYUWJKUT0H2OO4.jpg'}},\n          {'id': '87587879',\n           'firstName': 'Diane',\n           'lastName': 'D',\n           'photo': {'prefix': 'https://fastly.4sqi.net/img/user/',\n            'suffix': '/87587879-ESLRSZLQ2CBE2P4W.jpg'}},\n          {'id': '87591341',\n           'firstName': 'Tim',\n           'lastName': 'S',\n           'photo': {'prefix': 'https://fastly.4sqi.net/img/user/',\n            'suffix': '/-Z4YK4VKE0JSVXIY1.jpg'}},\n          {'id': '87473404',\n           'firstName': 'TenantKing.com',\n           'photo': {'prefix': 'https://fastly.4sqi.net/img/user/',\n            'suffix': '/87473404-HI5DTBTK0HX401CA.png'},\n           'type': 'page'}]}],\n       'summary': '4 likes'},\n      'logView': True,\n      'agreeCount': 4,\n      'disagreeCount': 0,\n      'todo': {'count': 0},\n      'user': {'id': '87473404',\n       'firstName': 'TenantKing.com',\n       'photo': {'prefix': 'https://fastly.4sqi.net/img/user/',\n        'suffix': '/87473404-HI5DTBTK0HX401CA.png'},\n       'type': 'page'}},\n     {'id': '53962e98498ecd43845cc813',\n      'createdAt': 1402351256,\n      'text': \"I'm not sure if this place is one of the famous pizzerias in NYC but I loved their pizza.\",\n      'type': 'user',\n      'canonicalUrl': 'https://foursquare.com/item/53962e98498ecd43845cc813',\n      'photo': {'id': '53962e9c498e53dbbf59b28e',\n       'createdAt': 1402351260,\n       'source': {'name': 'Foursquare for iOS',\n        'url': 'https://foursquare.com/download/#/iphone'},\n       'prefix': 'https://fastly.4sqi.net/img/general/',\n       'suffix': '/7012699_DCcCtW8oRbhNv62E68gxtLnWn7IgRhapBr8vdnIQjYk.jpg',\n       'width': 720,\n       'height': 720,\n       'visibility': 'public'},\n      'photourl': 'https://fastly.4sqi.net/img/general/original/7012699_DCcCtW8oRbhNv62E68gxtLnWn7IgRhapBr8vdnIQjYk.jpg',\n      'lang': 'en',\n      'likes': {'count': 2,\n       'groups': [{'type': 'others',\n         'count': 2,\n         'items': [{'id': '7012699',\n           'firstName': 'Hani',\n           'lastName': 'A',\n           'photo': {'prefix': 'https://fastly.4sqi.net/img/user/',\n            'suffix': '/7012699_vCXraeWA_FdHlUETPVuDaElNtnp76a2i4JWAyD1JVMMiqitsCujXhqKtV2MQYPdfAVMBI7BRi.jpg'}},\n          {'id': '61939758',\n           'firstName': 'Leena',\n           'lastName': 'R',\n           'photo': {'prefix': 'https://fastly.4sqi.net/img/user/',\n            'suffix': '/61939758_KOpR9NFm_rNQPhjDng4f_qr3PU69nNGFgLnjwS-dM97MnkvrD7h1U2tOojRCPpFLq_B9KVfbh.jpg'}}]}],\n       'summary': '2 likes'},\n      'logView': True,\n      'agreeCount': 2,\n      'disagreeCount': 0,\n      'todo': {'count': 0},\n      'user': {'id': '7012699',\n       'firstName': 'Hani',\n       'lastName': 'A',\n       'photo': {'prefix': 'https://fastly.4sqi.net/img/user/',\n        'suffix': '/7012699_vCXraeWA_FdHlUETPVuDaElNtnp76a2i4JWAyD1JVMMiqitsCujXhqKtV2MQYPdfAVMBI7BRi.jpg'}},\n      'authorInteractionType': 'liked'}]}]},\n 'shortUrl': 'http://4sq.com/JNblHV',\n 'timeZone': 'America/New_York',\n 'listed': {'count': 54,\n  'groups': [{'type': 'others',\n    'name': 'Lists from other people',\n    'count': 54,\n    'items': [{'id': '4fa32fd0e4b04193744746b1',\n      'name': 'Manhattan Haunts',\n      'description': '',\n      'type': 'others',\n      'user': {'id': '24592223',\n       'firstName': 'Becca',\n       'lastName': 'M',\n       'photo': {'prefix': 'https://fastly.4sqi.net/img/user/',\n        'suffix': '/24592223-RAW2UYM0GIB1U40K.jpg'}},\n      'editable': False,\n      'public': True,\n      'collaborative': False,\n      'url': '/becca_mcarthur/list/manhattan-haunts',\n      'canonicalUrl': 'https://foursquare.com/becca_mcarthur/list/manhattan-haunts',\n      'createdAt': 1336094672,\n      'updatedAt': 1380845377,\n      'photo': {'id': '4e8cc9461081e3b3544e12e5',\n       'createdAt': 1317849414,\n       'prefix': 'https://fastly.4sqi.net/img/general/',\n       'suffix': '/0NLVU2HC1JF4DXIMKWUFW3QBUT31DC11EFNYYHMJG3NDWAPS.jpg',\n       'width': 492,\n       'height': 330,\n       'user': {'id': '742542',\n        'firstName': 'Time Out New York',\n        'photo': {'prefix': 'https://fastly.4sqi.net/img/user/',\n         'suffix': '/XXHKCBSQHBORZNSR.jpg'},\n        'type': 'page'},\n       'visibility': 'public'},\n      'followers': {'count': 22},\n      'listItems': {'count': 187,\n       'items': [{'id': 'v4fa862b3e4b0ebff2f749f06',\n         'createdAt': 1342934485}]}},\n     {'id': '4fae817be4b085f6b2a74d19',\n      'name': 'USA NYC MAN FiDi',\n      'description': 'Where to go for decent eats in the restaurant wasteland of Downtown NYC aka FiDi, along with Tribeca & Battery Park City.',\n      'type': 'others',\n      'user': {'id': '12113441',\n       'firstName': 'Kino',\n       'photo': {'prefix': 'https://fastly.4sqi.net/img/user/',\n        'suffix': '/12113441-K5HTHFLU2MUCM0CM.jpg'}},\n      'editable': False,\n      'public': True,\n      'collaborative': False,\n      'url': '/kinosfault/list/usa-nyc-man-fidi',\n      'canonicalUrl': 'https://foursquare.com/kinosfault/list/usa-nyc-man-fidi',\n      'createdAt': 1336836475,\n      'updatedAt': 1556754919,\n      'photo': {'id': '55984992498e13ba75e353bb',\n       'createdAt': 1436043666,\n       'prefix': 'https://fastly.4sqi.net/img/general/',\n       'suffix': '/12113441_iOa6Uh-Xi8bhj2-gpzkkw8MKiAIs7RmOcz_RM7m8ink.jpg',\n       'width': 540,\n       'height': 960,\n       'user': {'id': '12113441',\n        'firstName': 'Kino',\n        'photo': {'prefix': 'https://fastly.4sqi.net/img/user/',\n         'suffix': '/12113441-K5HTHFLU2MUCM0CM.jpg'}},\n       'visibility': 'public'},\n      'followers': {'count': 20},\n      'listItems': {'count': 273,\n       'items': [{'id': 'v4fa862b3e4b0ebff2f749f06',\n         'createdAt': 1373909433}]}},\n     {'id': '4fddeff0e4b0e078037ac0d3',\n      'name': 'NYC Resturants',\n      'description': '',\n      'type': 'others',\n      'user': {'id': '21563126',\n       'firstName': 'Richard',\n       'lastName': 'R',\n       'photo': {'prefix': 'https://fastly.4sqi.net/img/user/',\n        'suffix': '/21563126_v05J1KPw_SVj6Ehq9g8B9jeAGjFUMsU5QGl-NZ8inUQ7pKQm5bKplW37EmR7jS2A7GYPBBAtl.jpg'}},\n      'editable': False,\n      'public': True,\n      'collaborative': True,\n      'url': '/rickr7/list/nyc-resturants',\n      'canonicalUrl': 'https://foursquare.com/rickr7/list/nyc-resturants',\n      'createdAt': 1339944944,\n      'updatedAt': 1591664261,\n      'photo': {'id': '5072dd13e4b09145cdf782d1',\n       'createdAt': 1349704979,\n       'prefix': 'https://fastly.4sqi.net/img/general/',\n       'suffix': '/208205_fGh2OuAZ9qJ4agbAA5wMVNOSIm9kNUlRtNwj1N-adqg.jpg',\n       'width': 800,\n       'height': 800,\n       'user': {'id': '208205',\n        'firstName': 'Thalia',\n        'lastName': 'K',\n        'photo': {'prefix': 'https://fastly.4sqi.net/img/user/',\n         'suffix': '/SNOOLCAW2AG04ZKD.jpg'}},\n       'visibility': 'public'},\n      'followers': {'count': 12},\n      'listItems': {'count': 193,\n       'items': [{'id': 'v4fa862b3e4b0ebff2f749f06',\n         'createdAt': 1581655865}]}},\n     {'id': '5266c68a498e7c667807fe09',\n      'name': 'Foodie Love in NY - 02',\n      'description': '',\n      'type': 'others',\n      'user': {'id': '547977',\n       'firstName': 'WiLL',\n       'photo': {'prefix': 'https://fastly.4sqi.net/img/user/',\n        'suffix': '/-Q5NYGDMFDMOITQRR.jpg'}},\n      'editable': False,\n      'public': True,\n      'collaborative': False,\n      'url': '/sweetiewill/list/foodie-love-in-ny--02',\n      'canonicalUrl': 'https://foursquare.com/sweetiewill/list/foodie-love-in-ny--02',\n      'createdAt': 1382467210,\n      'updatedAt': 1391995585,\n      'followers': {'count': 7},\n      'listItems': {'count': 200,\n       'items': [{'id': 'v4fa862b3e4b0ebff2f749f06',\n         'createdAt': 1386809936}]}}]}]},\n 'hours': {'status': 'Open until 11:00 PM',\n  'richStatus': {'entities': [], 'text': 'Open until 11:00 PM'},\n  'isOpen': True,\n  'isLocalHoliday': False,\n  'dayData': [],\n  'timeframes': [{'days': 'Mon–Wed, Sun',\n    'includesToday': True,\n    'open': [{'renderedTime': '11:30 AM–11:00 PM'}],\n    'segments': []},\n   {'days': 'Thu–Sat',\n    'open': [{'renderedTime': '11:30 AM–Midnight'}],\n    'segments': []}]},\n 'popular': {'status': 'Likely open',\n  'richStatus': {'entities': [], 'text': 'Likely open'},\n  'isOpen': True,\n  'isLocalHoliday': False,\n  'timeframes': [{'days': 'Today',\n    'includesToday': True,\n    'open': [{'renderedTime': 'Noon–2:00 PM'},\n     {'renderedTime': '5:00 PM–10:00 PM'}],\n    'segments': []},\n   {'days': 'Wed–Thu',\n    'open': [{'renderedTime': 'Noon–2:00 PM'},\n     {'renderedTime': '5:00 PM–10:00 PM'}],\n    'segments': []},\n   {'days': 'Fri',\n    'open': [{'renderedTime': 'Noon–3:00 PM'},\n     {'renderedTime': '5:00 PM–11:00 PM'}],\n    'segments': []},\n   {'days': 'Sat',\n    'open': [{'renderedTime': 'Noon–11:00 PM'}],\n    'segments': []},\n   {'days': 'Sun',\n    'open': [{'renderedTime': 'Noon–3:00 PM'},\n     {'renderedTime': '5:00 PM–8:00 PM'}],\n    'segments': []},\n   {'days': 'Mon',\n    'open': [{'renderedTime': 'Noon–2:00 PM'},\n     {'renderedTime': '6:00 PM–8:00 PM'}],\n    'segments': []}]},\n 'seasonalHours': [],\n 'defaultHours': {'status': 'Open until 11:00 PM',\n  'richStatus': {'entities': [], 'text': 'Open until 11:00 PM'},\n  'isOpen': True,\n  'isLocalHoliday': False,\n  'dayData': [],\n  'timeframes': [{'days': 'Mon–Wed, Sun',\n    'includesToday': True,\n    'open': [{'renderedTime': '11:30 AM–11:00 PM'}],\n    'segments': []},\n   {'days': 'Thu–Sat',\n    'open': [{'renderedTime': '11:30 AM–Midnight'}],\n    'segments': []}]},\n 'pageUpdates': {'count': 0, 'items': []},\n 'inbox': {'count': 0, 'items': []},\n 'attributes': {'groups': [{'type': 'price',\n    'name': 'Price',\n    'summary': '$$',\n    'count': 1,\n    'items': [{'displayName': 'Price', 'displayValue': '$$', 'priceTier': 2}]},\n   {'type': 'payments',\n    'name': 'Credit Cards',\n    'summary': 'Credit Cards',\n    'count': 7,\n    'items': [{'displayName': 'Credit Cards',\n      'displayValue': 'Yes (incl. American Express)'}]},\n   {'type': 'outdoorSeating',\n    'name': 'Outdoor Seating',\n    'summary': 'Outdoor Seating',\n    'count': 1,\n    'items': [{'displayName': 'Outdoor Seating', 'displayValue': 'Yes'}]},\n   {'type': 'serves',\n    'name': 'Menus',\n    'summary': 'Happy Hour, Brunch & more',\n    'count': 8,\n    'items': [{'displayName': 'Brunch', 'displayValue': 'Brunch'},\n     {'displayName': 'Lunch', 'displayValue': 'Lunch'},\n     {'displayName': 'Dinner', 'displayValue': 'Dinner'},\n     {'displayName': 'Happy Hour', 'displayValue': 'Happy Hour'}]},\n   {'type': 'drinks',\n    'name': 'Drinks',\n    'summary': 'Beer, Wine & Cocktails',\n    'count': 5,\n    'items': [{'displayName': 'Beer', 'displayValue': 'Beer'},\n     {'displayName': 'Wine', 'displayValue': 'Wine'},\n     {'displayName': 'Cocktails', 'displayValue': 'Cocktails'}]}]},\n 'bestPhoto': {'id': '4fad980de4b091b4626c3633',\n  'createdAt': 1336776717,\n  'source': {'name': 'Foursquare for Android',\n   'url': 'https://foursquare.com/download/#/android'},\n  'prefix': 'https://fastly.4sqi.net/img/general/',\n  'suffix': '/ya1iQFI7pLjuIJp1PGDKlrZS3OJdHCF7tpILMmjv_2w.jpg',\n  'width': 480,\n  'height': 640,\n  'visibility': 'public'},\n 'colors': {'highlightColor': {'photoId': '4fad980de4b091b4626c3633',\n   'value': -13619152},\n  'highlightTextColor': {'photoId': '4fad980de4b091b4626c3633', 'value': -1},\n  'algoVersion': 3}}"
     },
     "metadata": {},
     "execution_count": 32
    }
   ],
   "source": [
    "result = requests.get(url).json()\n",
    "print(result['response']['venue'].keys())\n",
    "result['response']['venue']"
   ]
  },
  {
   "cell_type": "markdown",
   "metadata": {
    "button": false,
    "deletable": true,
    "new_sheet": false,
    "run_control": {
     "read_only": false
    }
   },
   "source": [
    "### B. Get the venue's overall rating"
   ]
  },
  {
   "cell_type": "code",
   "execution_count": 34,
   "metadata": {
    "button": false,
    "collapsed": false,
    "deletable": true,
    "new_sheet": false,
    "run_control": {
     "read_only": false
    },
    "tags": []
   },
   "outputs": [
    {
     "output_type": "stream",
     "name": "stdout",
     "text": "This venue has not been rated yet.\n"
    }
   ],
   "source": [
    "try:\n",
    "    print(result['response']['venue']['rating'])\n",
    "except:\n",
    "    print('This venue has not been rated yet.')"
   ]
  },
  {
   "cell_type": "markdown",
   "metadata": {
    "button": false,
    "deletable": true,
    "new_sheet": false,
    "run_control": {
     "read_only": false
    }
   },
   "source": [
    "That is not a very good rating. Let's check the rating of the second closest Italian restaurant."
   ]
  },
  {
   "cell_type": "code",
   "execution_count": 36,
   "metadata": {
    "button": false,
    "collapsed": false,
    "deletable": true,
    "new_sheet": false,
    "run_control": {
     "read_only": false
    },
    "tags": []
   },
   "outputs": [
    {
     "output_type": "stream",
     "name": "stdout",
     "text": "This venue has not been rated yet.\n"
    }
   ],
   "source": [
    "venue_id = '4f3232e219836c91c7bfde94' # ID of Conca Cucina Italian Restaurant\n",
    "url = 'https://api.foursquare.com/v2/venues/{}?client_id={}&client_secret={}&v={}'.format(venue_id, CLIENT_ID, CLIENT_SECRET, VERSION)\n",
    "\n",
    "result = requests.get(url).json()\n",
    "try:\n",
    "    print(result['response']['venue']['rating'])\n",
    "except:\n",
    "    print('This venue has not been rated yet.')"
   ]
  },
  {
   "cell_type": "markdown",
   "metadata": {
    "button": false,
    "deletable": true,
    "new_sheet": false,
    "run_control": {
     "read_only": false
    }
   },
   "source": [
    "Since this restaurant has no ratings, let's check the third restaurant."
   ]
  },
  {
   "cell_type": "code",
   "execution_count": 38,
   "metadata": {
    "button": false,
    "collapsed": false,
    "deletable": true,
    "new_sheet": false,
    "run_control": {
     "read_only": false
    },
    "tags": []
   },
   "outputs": [
    {
     "output_type": "stream",
     "name": "stdout",
     "text": "7.3\n"
    }
   ],
   "source": [
    "venue_id = '3fd66200f964a520f4e41ee3' # ID of Ecco\n",
    "url = 'https://api.foursquare.com/v2/venues/{}?client_id={}&client_secret={}&v={}'.format(venue_id, CLIENT_ID, CLIENT_SECRET, VERSION)\n",
    "\n",
    "result = requests.get(url).json()\n",
    "try:\n",
    "    print(result['response']['venue']['rating'])\n",
    "except:\n",
    "    print('This venue has not been rated yet.')"
   ]
  },
  {
   "cell_type": "markdown",
   "metadata": {
    "button": false,
    "deletable": true,
    "new_sheet": false,
    "run_control": {
     "read_only": false
    }
   },
   "source": [
    "Since this restaurant has a slightly better rating, let's explore it further."
   ]
  },
  {
   "cell_type": "markdown",
   "metadata": {
    "button": false,
    "deletable": true,
    "new_sheet": false,
    "run_control": {
     "read_only": false
    }
   },
   "source": [
    "### C. Get the number of tips"
   ]
  },
  {
   "cell_type": "code",
   "execution_count": 40,
   "metadata": {
    "button": false,
    "collapsed": false,
    "deletable": true,
    "new_sheet": false,
    "run_control": {
     "read_only": false
    }
   },
   "outputs": [
    {
     "output_type": "execute_result",
     "data": {
      "text/plain": "19"
     },
     "metadata": {},
     "execution_count": 40
    }
   ],
   "source": [
    "result['response']['venue']['tips']['count']"
   ]
  },
  {
   "cell_type": "markdown",
   "metadata": {
    "button": false,
    "deletable": true,
    "new_sheet": false,
    "run_control": {
     "read_only": false
    }
   },
   "source": [
    "### D. Get the venue's tips\n",
    "> `https://api.foursquare.com/v2/venues/`**VENUE_ID**`/tips?client_id=`**CLIENT_ID**`&client_secret=`**CLIENT_SECRET**`&v=`**VERSION**`&limit=`**LIMIT**"
   ]
  },
  {
   "cell_type": "markdown",
   "metadata": {
    "button": false,
    "deletable": true,
    "new_sheet": false,
    "run_control": {
     "read_only": false
    }
   },
   "source": [
    "#### Create URL and send GET request. Make sure to set limit to get all tips"
   ]
  },
  {
   "cell_type": "code",
   "execution_count": 42,
   "metadata": {
    "button": false,
    "collapsed": false,
    "deletable": true,
    "new_sheet": false,
    "run_control": {
     "read_only": false
    }
   },
   "outputs": [
    {
     "output_type": "execute_result",
     "data": {
      "text/plain": "{'meta': {'code': 200, 'requestId': '5f0ddc746da43a2157173a13'},\n 'response': {'tips': {'count': 19,\n   'items': [{'id': '5ab1cb46c9a517174651d3fe',\n     'createdAt': 1521601350,\n     'text': 'A+ Italian food! Trust me on this: my mom’s side of the family is 100% Italian. I was born and bred to know good pasta when I see it, and Ecco is one of my all-time NYC favorites',\n     'type': 'user',\n     'canonicalUrl': 'https://foursquare.com/item/5ab1cb46c9a517174651d3fe',\n     'lang': 'en',\n     'likes': {'count': 0, 'groups': []},\n     'logView': True,\n     'agreeCount': 4,\n     'disagreeCount': 0,\n     'todo': {'count': 0},\n     'user': {'id': '484542633',\n      'firstName': 'Nick',\n      'lastName': 'E',\n      'photo': {'prefix': 'https://fastly.4sqi.net/img/user/',\n       'suffix': '/484542633_unymNUmw_FdPs3GjXHujmHcYnN4hf8kEPADlOZuIrdcdm97VX3tFqL7fFNMNA_8Gl9NlU1GYg.jpg'}},\n     'authorInteractionType': 'liked'},\n    {'id': '5cb7051b180b910039f90625',\n     'createdAt': 1555498267,\n     'text': 'Excellent food!! Osso bucco special one of the best I ever had! Lobster ravioli with porcini mushroomhomemade Italian cheesecake, tiramisu and napoleons...calamari fra diavolo was sautéed not fried',\n     'type': 'user',\n     'canonicalUrl': 'https://foursquare.com/item/5cb7051b180b910039f90625',\n     'lang': 'en',\n     'likes': {'count': 0, 'groups': []},\n     'logView': True,\n     'agreeCount': 1,\n     'disagreeCount': 0,\n     'todo': {'count': 0},\n     'user': {'id': '446298346',\n      'firstName': 'Lynn',\n      'lastName': 'B',\n      'photo': {'prefix': 'https://fastly.4sqi.net/img/user/',\n       'suffix': '/446298346_fdtqugvP_1WztOWXXDQX92HwIrjzLb6nMQsYiCVlkiTp58UGSFVBwQ0-5G5AdqxlEWphYWTnK.jpg'}},\n     'authorInteractionType': 'liked'}]}}}"
     },
     "metadata": {},
     "execution_count": 42
    }
   ],
   "source": [
    "## Ecco Tips\n",
    "limit = 20 # set limit to be greater than or equal to the total number of tips\n",
    "url = 'https://api.foursquare.com/v2/venues/{}/tips?client_id={}&client_secret={}&v={}&limit={}'.format(venue_id, CLIENT_ID, CLIENT_SECRET, VERSION, limit)\n",
    "\n",
    "results = requests.get(url).json()\n",
    "results"
   ]
  },
  {
   "cell_type": "markdown",
   "metadata": {
    "button": false,
    "deletable": true,
    "new_sheet": false,
    "run_control": {
     "read_only": false
    }
   },
   "source": [
    "#### Get tips and list of associated features"
   ]
  },
  {
   "cell_type": "code",
   "execution_count": 44,
   "metadata": {
    "button": false,
    "collapsed": false,
    "deletable": true,
    "new_sheet": false,
    "run_control": {
     "read_only": false
    }
   },
   "outputs": [
    {
     "output_type": "execute_result",
     "data": {
      "text/plain": "dict_keys(['id', 'createdAt', 'text', 'type', 'canonicalUrl', 'lang', 'likes', 'logView', 'agreeCount', 'disagreeCount', 'todo', 'user', 'authorInteractionType'])"
     },
     "metadata": {},
     "execution_count": 44
    }
   ],
   "source": [
    "tips = results['response']['tips']['items']\n",
    "\n",
    "tip = results['response']['tips']['items'][0]\n",
    "tip.keys()"
   ]
  },
  {
   "cell_type": "markdown",
   "metadata": {
    "button": false,
    "deletable": true,
    "new_sheet": false,
    "run_control": {
     "read_only": false
    }
   },
   "source": [
    "#### Format column width and display all tips"
   ]
  },
  {
   "cell_type": "code",
   "execution_count": 46,
   "metadata": {},
   "outputs": [
    {
     "output_type": "execute_result",
     "data": {
      "text/plain": "                         id   createdAt  \\\n0  5ab1cb46c9a517174651d3fe  1521601350   \n1  5cb7051b180b910039f90625  1555498267   \n\n                                                                                                                                                                                                    text  \\\n0  A+ Italian food! Trust me on this: my mom’s side of the family is 100% Italian. I was born and bred to know good pasta when I see it, and Ecco is one of my all-time NYC favorites                      \n1  Excellent food!! Osso bucco special one of the best I ever had! Lobster ravioli with porcini mushroomhomemade Italian cheesecake, tiramisu and napoleons...calamari fra diavolo was sautéed not fried   \n\n   type                                          canonicalUrl lang  logView  \\\n0  user  https://foursquare.com/item/5ab1cb46c9a517174651d3fe  en   True      \n1  user  https://foursquare.com/item/5cb7051b180b910039f90625  en   True      \n\n   agreeCount  disagreeCount authorInteractionType  likes.count likes.groups  \\\n0  4           0              liked                 0            []            \n1  1           0              liked                 0            []            \n\n   todo.count    user.id user.firstName user.lastName  \\\n0  0           484542633  Nick           E              \n1  0           446298346  Lynn           B              \n\n                   user.photo.prefix  \\\n0  https://fastly.4sqi.net/img/user/   \n1  https://fastly.4sqi.net/img/user/   \n\n                                                                          user.photo.suffix  \n0  /484542633_unymNUmw_FdPs3GjXHujmHcYnN4hf8kEPADlOZuIrdcdm97VX3tFqL7fFNMNA_8Gl9NlU1GYg.jpg  \n1  /446298346_fdtqugvP_1WztOWXXDQX92HwIrjzLb6nMQsYiCVlkiTp58UGSFVBwQ0-5G5AdqxlEWphYWTnK.jpg  ",
      "text/html": "<div>\n<style scoped>\n    .dataframe tbody tr th:only-of-type {\n        vertical-align: middle;\n    }\n\n    .dataframe tbody tr th {\n        vertical-align: top;\n    }\n\n    .dataframe thead th {\n        text-align: right;\n    }\n</style>\n<table border=\"1\" class=\"dataframe\">\n  <thead>\n    <tr style=\"text-align: right;\">\n      <th></th>\n      <th>id</th>\n      <th>createdAt</th>\n      <th>text</th>\n      <th>type</th>\n      <th>canonicalUrl</th>\n      <th>lang</th>\n      <th>logView</th>\n      <th>agreeCount</th>\n      <th>disagreeCount</th>\n      <th>authorInteractionType</th>\n      <th>likes.count</th>\n      <th>likes.groups</th>\n      <th>todo.count</th>\n      <th>user.id</th>\n      <th>user.firstName</th>\n      <th>user.lastName</th>\n      <th>user.photo.prefix</th>\n      <th>user.photo.suffix</th>\n    </tr>\n  </thead>\n  <tbody>\n    <tr>\n      <th>0</th>\n      <td>5ab1cb46c9a517174651d3fe</td>\n      <td>1521601350</td>\n      <td>A+ Italian food! Trust me on this: my mom’s side of the family is 100% Italian. I was born and bred to know good pasta when I see it, and Ecco is one of my all-time NYC favorites</td>\n      <td>user</td>\n      <td>https://foursquare.com/item/5ab1cb46c9a517174651d3fe</td>\n      <td>en</td>\n      <td>True</td>\n      <td>4</td>\n      <td>0</td>\n      <td>liked</td>\n      <td>0</td>\n      <td>[]</td>\n      <td>0</td>\n      <td>484542633</td>\n      <td>Nick</td>\n      <td>E</td>\n      <td>https://fastly.4sqi.net/img/user/</td>\n      <td>/484542633_unymNUmw_FdPs3GjXHujmHcYnN4hf8kEPADlOZuIrdcdm97VX3tFqL7fFNMNA_8Gl9NlU1GYg.jpg</td>\n    </tr>\n    <tr>\n      <th>1</th>\n      <td>5cb7051b180b910039f90625</td>\n      <td>1555498267</td>\n      <td>Excellent food!! Osso bucco special one of the best I ever had! Lobster ravioli with porcini mushroomhomemade Italian cheesecake, tiramisu and napoleons...calamari fra diavolo was sautéed not fried</td>\n      <td>user</td>\n      <td>https://foursquare.com/item/5cb7051b180b910039f90625</td>\n      <td>en</td>\n      <td>True</td>\n      <td>1</td>\n      <td>0</td>\n      <td>liked</td>\n      <td>0</td>\n      <td>[]</td>\n      <td>0</td>\n      <td>446298346</td>\n      <td>Lynn</td>\n      <td>B</td>\n      <td>https://fastly.4sqi.net/img/user/</td>\n      <td>/446298346_fdtqugvP_1WztOWXXDQX92HwIrjzLb6nMQsYiCVlkiTp58UGSFVBwQ0-5G5AdqxlEWphYWTnK.jpg</td>\n    </tr>\n  </tbody>\n</table>\n</div>"
     },
     "metadata": {},
     "execution_count": 46
    }
   ],
   "source": [
    "pd.set_option('display.max_colwidth', -1)\n",
    "tips_df = json_normalize(tips) \n",
    "tips_df"
   ]
  },
  {
   "cell_type": "code",
   "execution_count": 48,
   "metadata": {
    "button": false,
    "collapsed": false,
    "deletable": true,
    "new_sheet": false,
    "run_control": {
     "read_only": false
    },
    "scrolled": false
   },
   "outputs": [
    {
     "output_type": "execute_result",
     "data": {
      "text/plain": "                                                                                                                                                                                                    text  \\\n0  A+ Italian food! Trust me on this: my mom’s side of the family is 100% Italian. I was born and bred to know good pasta when I see it, and Ecco is one of my all-time NYC favorites                      \n1  Excellent food!! Osso bucco special one of the best I ever had! Lobster ravioli with porcini mushroomhomemade Italian cheesecake, tiramisu and napoleons...calamari fra diavolo was sautéed not fried   \n\n   agreeCount  disagreeCount                        id user.firstName  \\\n0  4           0              5ab1cb46c9a517174651d3fe  Nick            \n1  1           0              5cb7051b180b910039f90625  Lynn            \n\n  user.lastName    user.id  \n0  E             484542633  \n1  B             446298346  ",
      "text/html": "<div>\n<style scoped>\n    .dataframe tbody tr th:only-of-type {\n        vertical-align: middle;\n    }\n\n    .dataframe tbody tr th {\n        vertical-align: top;\n    }\n\n    .dataframe thead th {\n        text-align: right;\n    }\n</style>\n<table border=\"1\" class=\"dataframe\">\n  <thead>\n    <tr style=\"text-align: right;\">\n      <th></th>\n      <th>text</th>\n      <th>agreeCount</th>\n      <th>disagreeCount</th>\n      <th>id</th>\n      <th>user.firstName</th>\n      <th>user.lastName</th>\n      <th>user.id</th>\n    </tr>\n  </thead>\n  <tbody>\n    <tr>\n      <th>0</th>\n      <td>A+ Italian food! Trust me on this: my mom’s side of the family is 100% Italian. I was born and bred to know good pasta when I see it, and Ecco is one of my all-time NYC favorites</td>\n      <td>4</td>\n      <td>0</td>\n      <td>5ab1cb46c9a517174651d3fe</td>\n      <td>Nick</td>\n      <td>E</td>\n      <td>484542633</td>\n    </tr>\n    <tr>\n      <th>1</th>\n      <td>Excellent food!! Osso bucco special one of the best I ever had! Lobster ravioli with porcini mushroomhomemade Italian cheesecake, tiramisu and napoleons...calamari fra diavolo was sautéed not fried</td>\n      <td>1</td>\n      <td>0</td>\n      <td>5cb7051b180b910039f90625</td>\n      <td>Lynn</td>\n      <td>B</td>\n      <td>446298346</td>\n    </tr>\n  </tbody>\n</table>\n</div>"
     },
     "metadata": {},
     "execution_count": 48
    }
   ],
   "source": [
    "pd.set_option('display.max_colwidth', -1)\n",
    "\n",
    "tips_df = json_normalize(tips) # json normalize tips\n",
    "\n",
    "# columns to keep\n",
    "filtered_columns = ['text', 'agreeCount', 'disagreeCount', 'id', 'user.firstName', 'user.lastName', 'user.id']\n",
    "tips_filtered = tips_df.loc[:, filtered_columns]\n",
    "\n",
    "# display tips\n",
    "tips_filtered"
   ]
  },
  {
   "cell_type": "markdown",
   "metadata": {
    "button": false,
    "deletable": true,
    "new_sheet": false,
    "run_control": {
     "read_only": false
    }
   },
   "source": [
    "Now remember that because we are using a personal developer account, then we can access only 2 of the restaurant's tips, instead of all 15 tips."
   ]
  },
  {
   "cell_type": "markdown",
   "metadata": {
    "button": false,
    "deletable": true,
    "new_sheet": false,
    "run_control": {
     "read_only": false
    }
   },
   "source": [
    "### Define URL, send GET request and display features associated with user"
   ]
  },
  {
   "cell_type": "code",
   "execution_count": 50,
   "metadata": {},
   "outputs": [
    {
     "output_type": "execute_result",
     "data": {
      "text/plain": "{'meta': {'code': 200, 'requestId': '5f0ddc92a10064683ebd47b7'},\n 'notifications': [{'type': 'notificationTray', 'item': {'unreadCount': 0}}],\n 'response': {'user': {'id': '484542633',\n   'firstName': 'Nick',\n   'lastName': 'El-Tawil',\n   'gender': 'male',\n   'canonicalUrl': 'https://foursquare.com/user/484542633',\n   'photo': {'prefix': 'https://fastly.4sqi.net/img/user/',\n    'suffix': '/484542633_unymNUmw_FdPs3GjXHujmHcYnN4hf8kEPADlOZuIrdcdm97VX3tFqL7fFNMNA_8Gl9NlU1GYg.jpg'},\n   'friends': {'count': 0,\n    'groups': [{'type': 'friends',\n      'name': 'Mutual friends',\n      'count': 0,\n      'items': []},\n     {'type': 'others', 'name': 'Other friends', 'count': 0, 'items': []}]},\n   'tips': {'count': 98},\n   'homeCity': 'New York, NY',\n   'bio': 'https://www.tawil.team/nick-el-tawil/',\n   'contact': {'twitter': 'nickeltawil'},\n   'photos': {'count': 2,\n    'items': [{'id': '5e41a7ce346b7c00085b0f70',\n      'createdAt': 1581361102,\n      'source': {'name': 'Foursquare for iOS',\n       'url': 'https://foursquare.com/download/#/iphone'},\n      'prefix': 'https://fastly.4sqi.net/img/general/',\n      'suffix': '/484542633_cF12vc8JQJTd-hyznst-CsHHTdSoi4XwCGKhTuQXNfo.jpg',\n      'width': 1440,\n      'height': 1440,\n      'visibility': 'public',\n      'venue': {'id': '5ab194451ffed736e329b365',\n       'name': 'Tawil & Team',\n       'location': {'address': '413 W 14th St # 200',\n        'crossStreet': '9th Avenue',\n        'lat': 40.74175262451172,\n        'lng': -74.006103515625,\n        'labeledLatLngs': [{'label': 'display',\n          'lat': 40.74175262451172,\n          'lng': -74.006103515625}],\n        'postalCode': '10014',\n        'cc': 'US',\n        'city': 'New York',\n        'state': 'NY',\n        'country': 'United States',\n        'formattedAddress': ['413 W 14th St # 200 (9th Avenue)',\n         'New York, NY 10014',\n         'United States']},\n       'categories': [{'id': '5032885091d4c4b30a586d66',\n         'name': 'Real Estate Office',\n         'pluralName': 'Real Estate Offices',\n         'shortName': 'Real Estate',\n         'icon': {'prefix': 'https://ss3.4sqi.net/img/categories_v2/shops/realestate_',\n          'suffix': '.png'},\n         'primary': True}],\n       'like': False}}]},\n   'checkinPings': 'off',\n   'pings': False,\n   'type': 'user',\n   'mayorships': {'count': 0, 'items': []},\n   'checkins': {'count': 1, 'items': []},\n   'lists': {'count': 2,\n    'groups': [{'type': 'created', 'count': 0, 'items': []},\n     {'type': 'followed', 'count': 0, 'items': []},\n     {'type': 'yours',\n      'count': 2,\n      'items': [{'id': '484542633/todos',\n        'name': \"Nick's Saved Places\",\n        'description': '',\n        'type': 'todos',\n        'editable': False,\n        'public': True,\n        'collaborative': False,\n        'url': '/nickeltawil/list/todos',\n        'canonicalUrl': 'https://foursquare.com/nickeltawil/list/todos',\n        'listItems': {'count': 1}},\n       {'id': '484542633/venuelikes',\n        'name': 'Nick’s Liked Places',\n        'description': '',\n        'type': 'likes',\n        'editable': False,\n        'public': True,\n        'collaborative': False,\n        'url': '/nickeltawil/list/venuelikes',\n        'canonicalUrl': 'https://foursquare.com/nickeltawil/list/venuelikes',\n        'listItems': {'count': 0}}]}]},\n   'blockedStatus': 'none',\n   'lenses': []}}}"
     },
     "metadata": {},
     "execution_count": 50
    }
   ],
   "source": [
    "results"
   ]
  },
  {
   "cell_type": "code",
   "execution_count": 52,
   "metadata": {
    "button": false,
    "collapsed": false,
    "deletable": true,
    "new_sheet": false,
    "run_control": {
     "read_only": false
    }
   },
   "outputs": [
    {
     "output_type": "execute_result",
     "data": {
      "text/plain": "dict_keys(['id', 'firstName', 'lastName', 'gender', 'canonicalUrl', 'photo', 'friends', 'tips', 'homeCity', 'bio', 'contact', 'photos', 'checkinPings', 'pings', 'type', 'mayorships', 'checkins', 'lists', 'blockedStatus', 'lenses'])"
     },
     "metadata": {},
     "execution_count": 52
    }
   ],
   "source": [
    "user_id = '484542633' # user ID with most agree counts and complete profile\n",
    "ACCESS_TOKEN = 'KMKPR4SMCWVLMKV4VW1TPICPGWT05F4Q32LMDPA2EQ0Y121M'\n",
    "\n",
    "url = 'https://api.foursquare.com/v2/users/{}?client_id={}&client_secret={}&oauth_token={}&v={}'.format(user_id, CLIENT_ID, CLIENT_SECRET, ACCESS_TOKEN, VERSION) # define URL\n",
    "\n",
    "# send GET request\n",
    "results = requests.get(url).json()\n",
    "user_data = results['response']['user']\n",
    "\n",
    "# display features associated with user\n",
    "user_data.keys()"
   ]
  },
  {
   "cell_type": "code",
   "execution_count": 54,
   "metadata": {
    "button": false,
    "collapsed": false,
    "deletable": true,
    "new_sheet": false,
    "run_control": {
     "read_only": false
    },
    "tags": []
   },
   "outputs": [
    {
     "output_type": "stream",
     "name": "stdout",
     "text": "First Name: Nick\nLast Name: El-Tawil\nHome City: New York, NY\n"
    }
   ],
   "source": [
    "print('First Name: ' + user_data['firstName'])\n",
    "print('Last Name: ' + user_data['lastName'])\n",
    "print('Home City: ' + user_data['homeCity'])"
   ]
  },
  {
   "cell_type": "markdown",
   "metadata": {
    "button": false,
    "deletable": true,
    "new_sheet": false,
    "run_control": {
     "read_only": false
    }
   },
   "source": [
    "#### How many tips has this user submitted?"
   ]
  },
  {
   "cell_type": "code",
   "execution_count": 56,
   "metadata": {
    "button": false,
    "collapsed": false,
    "deletable": true,
    "new_sheet": false,
    "run_control": {
     "read_only": false
    }
   },
   "outputs": [
    {
     "output_type": "execute_result",
     "data": {
      "text/plain": "{'count': 98}"
     },
     "metadata": {},
     "execution_count": 56
    }
   ],
   "source": [
    "user_data['tips']"
   ]
  },
  {
   "cell_type": "markdown",
   "metadata": {
    "button": false,
    "deletable": true,
    "new_sheet": false,
    "run_control": {
     "read_only": false
    }
   },
   "source": [
    "Wow! So it turns out that Nick is a very active Foursquare user, with more than 250 tips."
   ]
  },
  {
   "cell_type": "markdown",
   "metadata": {
    "button": false,
    "deletable": true,
    "new_sheet": false,
    "run_control": {
     "read_only": false
    }
   },
   "source": [
    "### Get User's tips"
   ]
  },
  {
   "cell_type": "code",
   "execution_count": 58,
   "metadata": {
    "button": false,
    "collapsed": false,
    "deletable": true,
    "new_sheet": false,
    "run_control": {
     "read_only": false
    },
    "scrolled": false
   },
   "outputs": [
    {
     "output_type": "execute_result",
     "data": {
      "text/plain": "                                                                                                                                                                                                 text  \\\n0   They serve coffee!!!!!!                                                                                                                                                                             \n1   Quick, cheap lunch that tastes good! Way shorter line than Chipotle, too.                                                                                                                           \n2   You’re not a real New Yorker until you’ve shame-ordered Insomnia Cookies for delivery at 3am                                                                                                        \n3   Good for you yet still tasty! Clean green protein is my go-to after I hit the gym 💪                                                                                                                 \n4   Burger game strong 💪                                                                                                                                                                                \n5   Great burgers & fries! Also, this place is exactly what it’s like when you go to a bar in the Southwest. Source: I’m from Arizona.                                                                  \n6   Açaí bowl + peanut butter + whey protein = 💪💪💪                                                                                                                                                      \n7   Highly underrated and way less crowded than Central Park!                                                                                                                                           \n8   Way easier to navigate than the Met proper, plus the Met Breuer focuses on modern art. If I only have a limited amount of time to spend in a museum, I would rather go here than anywhere else!     \n9   Get the açaí bowl with peanut butter after your work out and thank me later 👌                                                                                                                       \n10  When you want a burger, this should be the first thing that comes to mind. A+!                                                                                                                      \n11  Way less crowded than Central Park! People who live in the neighborhood rave about Carl Schurz Park.                                                                                                \n12  The best Mexican food in the Murray Hill / Kips Bay area!                                                                                                                                           \n13  Best coffee shop in the neighborhood!                                                                                                                                                               \n14  When there’s nice weather, the rooftop at Tonic East is the best place to watch the game. Perfect for March Madness & NBA finals!                                                                   \n15  Rib game level 💯                                                                                                                                                                                    \n16  Solid option for good Mexican food, which is hard to find in Murray Hill.                                                                                                                           \n17  My parents love this place. They always go here when they visit NYC, even though I tell them there are 5,689,097,788 other pizza places. They don’t dare. That has to count for something, right?   \n18  So good it makes me burp after every meal. I’ve been told that’s a compliment in France, so I’m going to keep doing it 🇫🇷                                                                           \n19  The greatest meats of all time! I get the Italian sub to go and it’s 🔥🔥🔥                                                                                                                            \n\n    agreeCount  disagreeCount                        id  \n0   1           0              5accc98c0313204c9d7ec157  \n1   2           0              5acbec70a0215b732e264fe8  \n2   1           0              5acbbd4eb1538e45373b07f5  \n3   2           0              5acbbcda01235808d5d6dc75  \n4   1           0              5ab575fb6bdee65f759da8c1  \n5   2           0              5ab5575d73fe2516ad8f363b  \n6   1           0              5ab42db53c858d64af2688a4  \n7   3           0              5ab42c396f706a29f53ad1a8  \n8   6           0              5ab42b987dc9e17930e5ff5b  \n9   1           0              5ab42aca2a7ab6333652b266  \n10  1           0              5ab42a28da5e5617d18e3a6a  \n11  3           0              5ab429db1ffe971b060083f5  \n12  1           0              5ab3f53f8496ca57542d5549  \n13  1           0              5ab3f428da5e5617d17d1475  \n14  2           0              5ab3f3fedd70c572de886c9d  \n15  1           0              5ab3f372da2e00604ca53924  \n16  4           0              5ab3f275dff815096a61884e  \n17  2           0              5ab3ef834c954c7a779e20ff  \n18  2           0              5ab3e8d6d0336060272dd4d9  \n19  2           0              5ab3e646c666662673431054  ",
      "text/html": "<div>\n<style scoped>\n    .dataframe tbody tr th:only-of-type {\n        vertical-align: middle;\n    }\n\n    .dataframe tbody tr th {\n        vertical-align: top;\n    }\n\n    .dataframe thead th {\n        text-align: right;\n    }\n</style>\n<table border=\"1\" class=\"dataframe\">\n  <thead>\n    <tr style=\"text-align: right;\">\n      <th></th>\n      <th>text</th>\n      <th>agreeCount</th>\n      <th>disagreeCount</th>\n      <th>id</th>\n    </tr>\n  </thead>\n  <tbody>\n    <tr>\n      <th>0</th>\n      <td>They serve coffee!!!!!!</td>\n      <td>1</td>\n      <td>0</td>\n      <td>5accc98c0313204c9d7ec157</td>\n    </tr>\n    <tr>\n      <th>1</th>\n      <td>Quick, cheap lunch that tastes good! Way shorter line than Chipotle, too.</td>\n      <td>2</td>\n      <td>0</td>\n      <td>5acbec70a0215b732e264fe8</td>\n    </tr>\n    <tr>\n      <th>2</th>\n      <td>You’re not a real New Yorker until you’ve shame-ordered Insomnia Cookies for delivery at 3am</td>\n      <td>1</td>\n      <td>0</td>\n      <td>5acbbd4eb1538e45373b07f5</td>\n    </tr>\n    <tr>\n      <th>3</th>\n      <td>Good for you yet still tasty! Clean green protein is my go-to after I hit the gym 💪</td>\n      <td>2</td>\n      <td>0</td>\n      <td>5acbbcda01235808d5d6dc75</td>\n    </tr>\n    <tr>\n      <th>4</th>\n      <td>Burger game strong 💪</td>\n      <td>1</td>\n      <td>0</td>\n      <td>5ab575fb6bdee65f759da8c1</td>\n    </tr>\n    <tr>\n      <th>5</th>\n      <td>Great burgers &amp; fries! Also, this place is exactly what it’s like when you go to a bar in the Southwest. Source: I’m from Arizona.</td>\n      <td>2</td>\n      <td>0</td>\n      <td>5ab5575d73fe2516ad8f363b</td>\n    </tr>\n    <tr>\n      <th>6</th>\n      <td>Açaí bowl + peanut butter + whey protein = 💪💪💪</td>\n      <td>1</td>\n      <td>0</td>\n      <td>5ab42db53c858d64af2688a4</td>\n    </tr>\n    <tr>\n      <th>7</th>\n      <td>Highly underrated and way less crowded than Central Park!</td>\n      <td>3</td>\n      <td>0</td>\n      <td>5ab42c396f706a29f53ad1a8</td>\n    </tr>\n    <tr>\n      <th>8</th>\n      <td>Way easier to navigate than the Met proper, plus the Met Breuer focuses on modern art. If I only have a limited amount of time to spend in a museum, I would rather go here than anywhere else!</td>\n      <td>6</td>\n      <td>0</td>\n      <td>5ab42b987dc9e17930e5ff5b</td>\n    </tr>\n    <tr>\n      <th>9</th>\n      <td>Get the açaí bowl with peanut butter after your work out and thank me later 👌</td>\n      <td>1</td>\n      <td>0</td>\n      <td>5ab42aca2a7ab6333652b266</td>\n    </tr>\n    <tr>\n      <th>10</th>\n      <td>When you want a burger, this should be the first thing that comes to mind. A+!</td>\n      <td>1</td>\n      <td>0</td>\n      <td>5ab42a28da5e5617d18e3a6a</td>\n    </tr>\n    <tr>\n      <th>11</th>\n      <td>Way less crowded than Central Park! People who live in the neighborhood rave about Carl Schurz Park.</td>\n      <td>3</td>\n      <td>0</td>\n      <td>5ab429db1ffe971b060083f5</td>\n    </tr>\n    <tr>\n      <th>12</th>\n      <td>The best Mexican food in the Murray Hill / Kips Bay area!</td>\n      <td>1</td>\n      <td>0</td>\n      <td>5ab3f53f8496ca57542d5549</td>\n    </tr>\n    <tr>\n      <th>13</th>\n      <td>Best coffee shop in the neighborhood!</td>\n      <td>1</td>\n      <td>0</td>\n      <td>5ab3f428da5e5617d17d1475</td>\n    </tr>\n    <tr>\n      <th>14</th>\n      <td>When there’s nice weather, the rooftop at Tonic East is the best place to watch the game. Perfect for March Madness &amp; NBA finals!</td>\n      <td>2</td>\n      <td>0</td>\n      <td>5ab3f3fedd70c572de886c9d</td>\n    </tr>\n    <tr>\n      <th>15</th>\n      <td>Rib game level 💯</td>\n      <td>1</td>\n      <td>0</td>\n      <td>5ab3f372da2e00604ca53924</td>\n    </tr>\n    <tr>\n      <th>16</th>\n      <td>Solid option for good Mexican food, which is hard to find in Murray Hill.</td>\n      <td>4</td>\n      <td>0</td>\n      <td>5ab3f275dff815096a61884e</td>\n    </tr>\n    <tr>\n      <th>17</th>\n      <td>My parents love this place. They always go here when they visit NYC, even though I tell them there are 5,689,097,788 other pizza places. They don’t dare. That has to count for something, right?</td>\n      <td>2</td>\n      <td>0</td>\n      <td>5ab3ef834c954c7a779e20ff</td>\n    </tr>\n    <tr>\n      <th>18</th>\n      <td>So good it makes me burp after every meal. I’ve been told that’s a compliment in France, so I’m going to keep doing it 🇫🇷</td>\n      <td>2</td>\n      <td>0</td>\n      <td>5ab3e8d6d0336060272dd4d9</td>\n    </tr>\n    <tr>\n      <th>19</th>\n      <td>The greatest meats of all time! I get the Italian sub to go and it’s 🔥🔥🔥</td>\n      <td>2</td>\n      <td>0</td>\n      <td>5ab3e646c666662673431054</td>\n    </tr>\n  </tbody>\n</table>\n</div>"
     },
     "metadata": {},
     "execution_count": 58
    }
   ],
   "source": [
    "# define tips URL\n",
    "url = 'https://api.foursquare.com/v2/users/{}/tips?client_id={}&client_secret={}&v={}&limit={}'.format(user_id, CLIENT_ID, CLIENT_SECRET, VERSION, limit)\n",
    "\n",
    "# send GET request and get user's tips\n",
    "results = requests.get(url).json()\n",
    "tips = results['response']['tips']['items']\n",
    "\n",
    "# format column width\n",
    "pd.set_option('display.max_colwidth', -1)\n",
    "\n",
    "tips_df = json_normalize(tips)\n",
    "\n",
    "# filter columns\n",
    "filtered_columns = ['text', 'agreeCount', 'disagreeCount', 'id']\n",
    "tips_filtered = tips_df.loc[:, filtered_columns]\n",
    "\n",
    "# display user's tips\n",
    "tips_filtered"
   ]
  },
  {
   "cell_type": "markdown",
   "metadata": {
    "button": false,
    "deletable": true,
    "new_sheet": false,
    "run_control": {
     "read_only": false
    }
   },
   "source": [
    "#### Let's get the venue for the tip with the greatest number of agree counts"
   ]
  },
  {
   "cell_type": "code",
   "execution_count": 60,
   "metadata": {
    "button": false,
    "collapsed": false,
    "deletable": true,
    "new_sheet": false,
    "run_control": {
     "read_only": false
    },
    "tags": []
   },
   "outputs": [
    {
     "output_type": "stream",
     "name": "stdout",
     "text": "Cowgirl\n{'address': '519 Hudson St', 'crossStreet': 'at W 10th St', 'lat': 40.73373338282062, 'lng': -74.0062998849649, 'labeledLatLngs': [{'label': 'display', 'lat': 40.73373338282062, 'lng': -74.0062998849649}], 'postalCode': '10014', 'cc': 'US', 'city': 'New York', 'state': 'NY', 'country': 'United States', 'formattedAddress': ['519 Hudson St (at W 10th St)', 'New York, NY 10014', 'United States']}\n"
    }
   ],
   "source": [
    "tip_id = '5ab5575d73fe2516ad8f363b' # tip id\n",
    "\n",
    "# define URL\n",
    "url = 'http://api.foursquare.com/v2/tips/{}?client_id={}&client_secret={}&v={}'.format(tip_id, CLIENT_ID, CLIENT_SECRET, VERSION)\n",
    "\n",
    "# send GET Request and examine results\n",
    "result = requests.get(url).json()\n",
    "print(result['response']['tip']['venue']['name'])\n",
    "print(result['response']['tip']['venue']['location'])"
   ]
  },
  {
   "cell_type": "markdown",
   "metadata": {
    "button": false,
    "deletable": true,
    "new_sheet": false,
    "run_control": {
     "read_only": false
    }
   },
   "source": [
    "### Get User's friends"
   ]
  },
  {
   "cell_type": "code",
   "execution_count": 62,
   "metadata": {
    "button": false,
    "collapsed": false,
    "deletable": true,
    "new_sheet": false,
    "run_control": {
     "read_only": false
    },
    "scrolled": false
   },
   "outputs": [
    {
     "output_type": "execute_result",
     "data": {
      "text/plain": "Empty DataFrame\nColumns: []\nIndex: []",
      "text/html": "<div>\n<style scoped>\n    .dataframe tbody tr th:only-of-type {\n        vertical-align: middle;\n    }\n\n    .dataframe tbody tr th {\n        vertical-align: top;\n    }\n\n    .dataframe thead th {\n        text-align: right;\n    }\n</style>\n<table border=\"1\" class=\"dataframe\">\n  <thead>\n    <tr style=\"text-align: right;\">\n      <th></th>\n    </tr>\n  </thead>\n  <tbody>\n  </tbody>\n</table>\n</div>"
     },
     "metadata": {},
     "execution_count": 62
    }
   ],
   "source": [
    "user_friends = json_normalize(user_data['friends']['groups'][0]['items'])\n",
    "user_friends"
   ]
  },
  {
   "cell_type": "markdown",
   "metadata": {
    "button": false,
    "deletable": true,
    "new_sheet": false,
    "run_control": {
     "read_only": false
    }
   },
   "source": [
    "Interesting. Despite being very active, it turns out that Nick does not have any friends on Foursquare. This might definitely change in the future."
   ]
  },
  {
   "cell_type": "markdown",
   "metadata": {
    "button": false,
    "deletable": true,
    "new_sheet": false,
    "run_control": {
     "read_only": false
    }
   },
   "source": [
    "### Retrieve the User's Profile Image"
   ]
  },
  {
   "cell_type": "code",
   "execution_count": 64,
   "metadata": {
    "button": false,
    "collapsed": false,
    "deletable": true,
    "new_sheet": false,
    "run_control": {
     "read_only": false
    },
    "scrolled": true
   },
   "outputs": [
    {
     "output_type": "execute_result",
     "data": {
      "text/plain": "{'id': '484542633',\n 'firstName': 'Nick',\n 'lastName': 'El-Tawil',\n 'gender': 'male',\n 'canonicalUrl': 'https://foursquare.com/user/484542633',\n 'photo': {'prefix': 'https://fastly.4sqi.net/img/user/',\n  'suffix': '/484542633_unymNUmw_FdPs3GjXHujmHcYnN4hf8kEPADlOZuIrdcdm97VX3tFqL7fFNMNA_8Gl9NlU1GYg.jpg'},\n 'friends': {'count': 0,\n  'groups': [{'type': 'friends',\n    'name': 'Mutual friends',\n    'count': 0,\n    'items': []},\n   {'type': 'others', 'name': 'Other friends', 'count': 0, 'items': []}]},\n 'tips': {'count': 98},\n 'homeCity': 'New York, NY',\n 'bio': 'https://www.tawil.team/nick-el-tawil/',\n 'contact': {'twitter': 'nickeltawil'},\n 'photos': {'count': 2,\n  'items': [{'id': '5e41a7ce346b7c00085b0f70',\n    'createdAt': 1581361102,\n    'source': {'name': 'Foursquare for iOS',\n     'url': 'https://foursquare.com/download/#/iphone'},\n    'prefix': 'https://fastly.4sqi.net/img/general/',\n    'suffix': '/484542633_cF12vc8JQJTd-hyznst-CsHHTdSoi4XwCGKhTuQXNfo.jpg',\n    'width': 1440,\n    'height': 1440,\n    'visibility': 'public',\n    'venue': {'id': '5ab194451ffed736e329b365',\n     'name': 'Tawil & Team',\n     'location': {'address': '413 W 14th St # 200',\n      'crossStreet': '9th Avenue',\n      'lat': 40.74175262451172,\n      'lng': -74.006103515625,\n      'labeledLatLngs': [{'label': 'display',\n        'lat': 40.74175262451172,\n        'lng': -74.006103515625}],\n      'postalCode': '10014',\n      'cc': 'US',\n      'city': 'New York',\n      'state': 'NY',\n      'country': 'United States',\n      'formattedAddress': ['413 W 14th St # 200 (9th Avenue)',\n       'New York, NY 10014',\n       'United States']},\n     'categories': [{'id': '5032885091d4c4b30a586d66',\n       'name': 'Real Estate Office',\n       'pluralName': 'Real Estate Offices',\n       'shortName': 'Real Estate',\n       'icon': {'prefix': 'https://ss3.4sqi.net/img/categories_v2/shops/realestate_',\n        'suffix': '.png'},\n       'primary': True}],\n     'like': False}}]},\n 'checkinPings': 'off',\n 'pings': False,\n 'type': 'user',\n 'mayorships': {'count': 0, 'items': []},\n 'checkins': {'count': 1, 'items': []},\n 'lists': {'count': 2,\n  'groups': [{'type': 'created', 'count': 0, 'items': []},\n   {'type': 'followed', 'count': 0, 'items': []},\n   {'type': 'yours',\n    'count': 2,\n    'items': [{'id': '484542633/todos',\n      'name': \"Nick's Saved Places\",\n      'description': '',\n      'type': 'todos',\n      'editable': False,\n      'public': True,\n      'collaborative': False,\n      'url': '/nickeltawil/list/todos',\n      'canonicalUrl': 'https://foursquare.com/nickeltawil/list/todos',\n      'listItems': {'count': 1}},\n     {'id': '484542633/venuelikes',\n      'name': 'Nick’s Liked Places',\n      'description': '',\n      'type': 'likes',\n      'editable': False,\n      'public': True,\n      'collaborative': False,\n      'url': '/nickeltawil/list/venuelikes',\n      'canonicalUrl': 'https://foursquare.com/nickeltawil/list/venuelikes',\n      'listItems': {'count': 0}}]}]},\n 'blockedStatus': 'none',\n 'lenses': []}"
     },
     "metadata": {},
     "execution_count": 64
    }
   ],
   "source": [
    "user_data"
   ]
  },
  {
   "cell_type": "code",
   "execution_count": 66,
   "metadata": {
    "button": false,
    "collapsed": false,
    "deletable": true,
    "new_sheet": false,
    "run_control": {
     "read_only": false
    }
   },
   "outputs": [
    {
     "output_type": "execute_result",
     "data": {
      "text/html": "<img src=\"https://fastly.4sqi.net/img/user/300x300/484542633_unymNUmw_FdPs3GjXHujmHcYnN4hf8kEPADlOZuIrdcdm97VX3tFqL7fFNMNA_8Gl9NlU1GYg.jpg\"/>",
      "text/plain": "<IPython.core.display.Image object>"
     },
     "metadata": {},
     "execution_count": 66
    }
   ],
   "source": [
    "# 1. grab prefix of photo\n",
    "# 2. grab suffix of photo\n",
    "# 3. concatenate them using the image size  \n",
    "Image(url='https://fastly.4sqi.net/img/user/300x300/484542633_unymNUmw_FdPs3GjXHujmHcYnN4hf8kEPADlOZuIrdcdm97VX3tFqL7fFNMNA_8Gl9NlU1GYg.jpg')"
   ]
  },
  {
   "cell_type": "markdown",
   "metadata": {
    "button": false,
    "deletable": true,
    "new_sheet": false,
    "run_control": {
     "read_only": false
    }
   },
   "source": [
    "  "
   ]
  },
  {
   "cell_type": "markdown",
   "metadata": {
    "button": false,
    "deletable": true,
    "new_sheet": false,
    "run_control": {
     "read_only": false
    }
   },
   "source": [
    "<a id=\"item4\"></a>"
   ]
  },
  {
   "cell_type": "markdown",
   "metadata": {
    "button": false,
    "deletable": true,
    "new_sheet": false,
    "run_control": {
     "read_only": false
    }
   },
   "source": [
    "## 4. Explore a location\n",
    "> `https://api.foursquare.com/v2/venues/`**explore**`?client_id=`**CLIENT_ID**`&client_secret=`**CLIENT_SECRET**`&ll=`**LATITUDE**`,`**LONGITUDE**`&v=`**VERSION**`&limit=`**LIMIT**"
   ]
  },
  {
   "cell_type": "markdown",
   "metadata": {
    "button": false,
    "deletable": true,
    "new_sheet": false,
    "run_control": {
     "read_only": false
    }
   },
   "source": [
    "#### So, you just finished your gourmet dish at Ecco, and are just curious about the popular spots around the restaurant. In order to explore the area, let's start by getting the latitude and longitude values of Ecco Restaurant."
   ]
  },
  {
   "cell_type": "code",
   "execution_count": 68,
   "metadata": {
    "button": false,
    "collapsed": true,
    "deletable": true,
    "new_sheet": false,
    "run_control": {
     "read_only": false
    }
   },
   "outputs": [],
   "source": [
    "latitude = 40.715337\n",
    "longitude = -74.008848"
   ]
  },
  {
   "cell_type": "markdown",
   "metadata": {
    "button": false,
    "deletable": true,
    "new_sheet": false,
    "run_control": {
     "read_only": false
    }
   },
   "source": [
    "#### Define URL"
   ]
  },
  {
   "cell_type": "code",
   "execution_count": 70,
   "metadata": {
    "button": false,
    "collapsed": false,
    "deletable": true,
    "new_sheet": false,
    "run_control": {
     "read_only": false
    }
   },
   "outputs": [
    {
     "output_type": "execute_result",
     "data": {
      "text/plain": "'https://api.foursquare.com/v2/venues/explore?client_id=S4LEYBNHHAWL5XR3W5SRNX3ZKTHCLMY4QHKJ3YQI0XLPWSGR&client_secret=ZRSRDS0A52KJHMIH3Y1BWGFEAHF3PRHX2RU3KHJRCTNCRULV&ll=40.715337,-74.008848&v=20180604&radius=500&limit=30'"
     },
     "metadata": {},
     "execution_count": 70
    }
   ],
   "source": [
    "url = 'https://api.foursquare.com/v2/venues/explore?client_id={}&client_secret={}&ll={},{}&v={}&radius={}&limit={}'.format(CLIENT_ID, CLIENT_SECRET, latitude, longitude, VERSION, radius, LIMIT)\n",
    "url"
   ]
  },
  {
   "cell_type": "markdown",
   "metadata": {
    "button": false,
    "deletable": true,
    "new_sheet": false,
    "run_control": {
     "read_only": false
    }
   },
   "source": [
    "#### Send GET request and examine results"
   ]
  },
  {
   "cell_type": "code",
   "execution_count": 72,
   "metadata": {
    "button": false,
    "collapsed": true,
    "deletable": true,
    "new_sheet": false,
    "run_control": {
     "read_only": false
    }
   },
   "outputs": [],
   "source": [
    "import requests"
   ]
  },
  {
   "cell_type": "code",
   "execution_count": 74,
   "metadata": {
    "button": false,
    "collapsed": false,
    "deletable": true,
    "new_sheet": false,
    "run_control": {
     "read_only": false
    }
   },
   "outputs": [
    {
     "output_type": "execute_result",
     "data": {
      "text/plain": "'There are 30 around Ecco restaurant.'"
     },
     "metadata": {},
     "execution_count": 74
    }
   ],
   "source": [
    "results = requests.get(url).json()\n",
    "'There are {} around Ecco restaurant.'.format(len(results['response']['groups'][0]['items']))"
   ]
  },
  {
   "cell_type": "markdown",
   "metadata": {
    "button": false,
    "deletable": true,
    "new_sheet": false,
    "run_control": {
     "read_only": false
    }
   },
   "source": [
    "#### Get relevant part of JSON"
   ]
  },
  {
   "cell_type": "code",
   "execution_count": 76,
   "metadata": {
    "button": false,
    "collapsed": false,
    "deletable": true,
    "new_sheet": false,
    "run_control": {
     "read_only": false
    }
   },
   "outputs": [
    {
     "output_type": "execute_result",
     "data": {
      "text/plain": "{'reasons': {'count': 0,\n  'items': [{'summary': 'This spot is popular',\n    'type': 'general',\n    'reasonName': 'globalInteractionReason'}]},\n 'venue': {'id': '5d5f24ec09484500079aee00',\n  'name': 'Los Tacos No. 1',\n  'location': {'address': '136 Church St',\n   'lat': 40.714267,\n   'lng': -74.008756,\n   'labeledLatLngs': [{'label': 'display',\n     'lat': 40.714267,\n     'lng': -74.008756}],\n   'distance': 119,\n   'postalCode': '10007',\n   'cc': 'US',\n   'city': 'New York',\n   'state': 'NY',\n   'country': 'United States',\n   'formattedAddress': ['136 Church St',\n    'New York, NY 10007',\n    'United States']},\n  'categories': [{'id': '4bf58dd8d48988d151941735',\n    'name': 'Taco Place',\n    'pluralName': 'Taco Places',\n    'shortName': 'Tacos',\n    'icon': {'prefix': 'https://ss3.4sqi.net/img/categories_v2/food/taco_',\n     'suffix': '.png'},\n    'primary': True}],\n  'photos': {'count': 0, 'groups': []}},\n 'referralId': 'e-0-5d5f24ec09484500079aee00-0'}"
     },
     "metadata": {},
     "execution_count": 76
    }
   ],
   "source": [
    "items = results['response']['groups'][0]['items']\n",
    "items[0]"
   ]
  },
  {
   "cell_type": "markdown",
   "metadata": {
    "button": false,
    "deletable": true,
    "new_sheet": false,
    "run_control": {
     "read_only": false
    }
   },
   "source": [
    "#### Process JSON and convert it to a clean dataframe"
   ]
  },
  {
   "cell_type": "code",
   "execution_count": 78,
   "metadata": {
    "button": false,
    "collapsed": false,
    "deletable": true,
    "new_sheet": false,
    "run_control": {
     "read_only": false
    },
    "scrolled": false
   },
   "outputs": [
    {
     "output_type": "execute_result",
     "data": {
      "text/plain": "                       name                     categories          address  \\\n0  Los Tacos No. 1           Taco Place                     136 Church St     \n1  Korin                     Furniture / Home Store         57 Warren St      \n2  Juice Press               Vegetarian / Vegan Restaurant  83 Murray St      \n3  Takahachi Bakery          Bakery                         25 Murray St      \n4  Chambers Street Wines     Wine Shop                      148 Chambers St   \n5  Takahachi                 Sushi Restaurant               145 Duane St      \n6  Restaurant Marc Forgione  New American Restaurant        134 Reade St      \n7  Exceed Physical Culture   Gym / Fitness Center           97 Reade St       \n8  Lekka Burger              Burger Joint                   81 Warren St      \n9  Nish Nūsh                 Falafel Restaurant             88 Reade St       \n\n         lat        lng  \\\n0  40.714267 -74.008756   \n1  40.714824 -74.009404   \n2  40.714788 -74.011132   \n3  40.713653 -74.008804   \n4  40.715773 -74.009718   \n5  40.716526 -74.008101   \n6  40.716380 -74.009629   \n7  40.715629 -74.007992   \n8  40.715246 -74.010559   \n9  40.715537 -74.007725   \n\n                                                                                                                            labeledLatLngs  \\\n0  [{'label': 'display', 'lat': 40.714267, 'lng': -74.008756}]                                                                               \n1  [{'label': 'display', 'lat': 40.71482437714839, 'lng': -74.00940425461492}, {'label': 'entrance', 'lat': 40.714727, 'lng': -74.009399}]   \n2  [{'label': 'display', 'lat': 40.71478769908051, 'lng': -74.0111317502157}]                                                                \n3  [{'label': 'display', 'lat': 40.713652845301894, 'lng': -74.0088038953017}, {'label': 'entrance', 'lat': 40.713716, 'lng': -74.008443}]   \n4  [{'label': 'display', 'lat': 40.715773063928374, 'lng': -74.00971823312332}, {'label': 'entrance', 'lat': 40.715696, 'lng': -74.00988}]   \n5  [{'label': 'display', 'lat': 40.71652647412374, 'lng': -74.00810108466207}, {'label': 'entrance', 'lat': 40.716508, 'lng': -74.007989}]   \n6  [{'label': 'display', 'lat': 40.71637984317071, 'lng': -74.00962933453428}]                                                               \n7  [{'label': 'display', 'lat': 40.7156286200256, 'lng': -74.0079922583853}, {'label': 'entrance', 'lat': 40.715589, 'lng': -74.008105}]     \n8  [{'label': 'display', 'lat': 40.715246, 'lng': -74.010559}]                                                                               \n9  [{'label': 'display', 'lat': 40.71553710116416, 'lng': -74.00772452925565}, {'label': 'entrance', 'lat': 40.715615, 'lng': -74.00773}]    \n\n   distance postalCode  cc      city state        country  \\\n0  119       10007      US  New York  NY    United States   \n1  73        10007      US  New York  NY    United States   \n2  202       10007      US  New York  NY    United States   \n3  187       10007      US  New York  NY    United States   \n4  88        10007      US  New York  NY    United States   \n5  146       10013      US  New York  NY    United States   \n6  133       10013      US  New York  NY    United States   \n7  79        10013      US  New York  NY    United States   \n8  144       10007      US  New York  NY    United States   \n9  97        10013      US  New York  NY    United States   \n\n                                                                        formattedAddress  \\\n0  [136 Church St, New York, NY 10007, United States]                                      \n1  [57 Warren St (Church St), New York, NY 10007, United States]                           \n2  [83 Murray St (btwn Greenwich St & W Broadway), New York, NY 10007, United States]      \n3  [25 Murray St (at Church St), New York, NY 10007, United States]                        \n4  [148 Chambers St (btwn West Broadway & Hudson St), New York, NY 10007, United States]   \n5  [145 Duane St (btwn W Broadway & Church St), New York, NY 10013, United States]         \n6  [134 Reade St (btwn Hudson and Greenwich St), New York, NY 10013, United States]        \n7  [97 Reade St (bet W Broadway & Church St), New York, NY 10013, United States]           \n8  [81 Warren St (btw Greenwich & West Broadway), New York, NY 10007, United States]       \n9  [88 Reade St (at Church St), New York, NY 10013, United States]                         \n\n                      crossStreet neighborhood                        id  \n0  NaN                             NaN          5d5f24ec09484500079aee00  \n1  Church St                       Tribeca      4af5d65ff964a52091fd21e3  \n2  btwn Greenwich St & W Broadway  NaN          54148bc6498ea7bb8c05b70a  \n3  at Church St                    NaN          4c154c9a77cea593c401d260  \n4  btwn West Broadway & Hudson St  NaN          4adcf23cf964a520cc6221e3  \n5  btwn W Broadway & Church St     NaN          4a8f2f39f964a520471420e3  \n6  btwn Hudson and Greenwich St    NaN          48510cf9f964a520a5501fe3  \n7  bet W Broadway & Church St      Tribeca      53910ac3498e57a5dc0eb160  \n8  btw Greenwich & West Broadway   NaN          5dc6f6a5ea8dfb00080f6faa  \n9  at Church St                    NaN          50ba9119e4b071a4bae6dc10  ",
      "text/html": "<div>\n<style scoped>\n    .dataframe tbody tr th:only-of-type {\n        vertical-align: middle;\n    }\n\n    .dataframe tbody tr th {\n        vertical-align: top;\n    }\n\n    .dataframe thead th {\n        text-align: right;\n    }\n</style>\n<table border=\"1\" class=\"dataframe\">\n  <thead>\n    <tr style=\"text-align: right;\">\n      <th></th>\n      <th>name</th>\n      <th>categories</th>\n      <th>address</th>\n      <th>lat</th>\n      <th>lng</th>\n      <th>labeledLatLngs</th>\n      <th>distance</th>\n      <th>postalCode</th>\n      <th>cc</th>\n      <th>city</th>\n      <th>state</th>\n      <th>country</th>\n      <th>formattedAddress</th>\n      <th>crossStreet</th>\n      <th>neighborhood</th>\n      <th>id</th>\n    </tr>\n  </thead>\n  <tbody>\n    <tr>\n      <th>0</th>\n      <td>Los Tacos No. 1</td>\n      <td>Taco Place</td>\n      <td>136 Church St</td>\n      <td>40.714267</td>\n      <td>-74.008756</td>\n      <td>[{'label': 'display', 'lat': 40.714267, 'lng': -74.008756}]</td>\n      <td>119</td>\n      <td>10007</td>\n      <td>US</td>\n      <td>New York</td>\n      <td>NY</td>\n      <td>United States</td>\n      <td>[136 Church St, New York, NY 10007, United States]</td>\n      <td>NaN</td>\n      <td>NaN</td>\n      <td>5d5f24ec09484500079aee00</td>\n    </tr>\n    <tr>\n      <th>1</th>\n      <td>Korin</td>\n      <td>Furniture / Home Store</td>\n      <td>57 Warren St</td>\n      <td>40.714824</td>\n      <td>-74.009404</td>\n      <td>[{'label': 'display', 'lat': 40.71482437714839, 'lng': -74.00940425461492}, {'label': 'entrance', 'lat': 40.714727, 'lng': -74.009399}]</td>\n      <td>73</td>\n      <td>10007</td>\n      <td>US</td>\n      <td>New York</td>\n      <td>NY</td>\n      <td>United States</td>\n      <td>[57 Warren St (Church St), New York, NY 10007, United States]</td>\n      <td>Church St</td>\n      <td>Tribeca</td>\n      <td>4af5d65ff964a52091fd21e3</td>\n    </tr>\n    <tr>\n      <th>2</th>\n      <td>Juice Press</td>\n      <td>Vegetarian / Vegan Restaurant</td>\n      <td>83 Murray St</td>\n      <td>40.714788</td>\n      <td>-74.011132</td>\n      <td>[{'label': 'display', 'lat': 40.71478769908051, 'lng': -74.0111317502157}]</td>\n      <td>202</td>\n      <td>10007</td>\n      <td>US</td>\n      <td>New York</td>\n      <td>NY</td>\n      <td>United States</td>\n      <td>[83 Murray St (btwn Greenwich St &amp; W Broadway), New York, NY 10007, United States]</td>\n      <td>btwn Greenwich St &amp; W Broadway</td>\n      <td>NaN</td>\n      <td>54148bc6498ea7bb8c05b70a</td>\n    </tr>\n    <tr>\n      <th>3</th>\n      <td>Takahachi Bakery</td>\n      <td>Bakery</td>\n      <td>25 Murray St</td>\n      <td>40.713653</td>\n      <td>-74.008804</td>\n      <td>[{'label': 'display', 'lat': 40.713652845301894, 'lng': -74.0088038953017}, {'label': 'entrance', 'lat': 40.713716, 'lng': -74.008443}]</td>\n      <td>187</td>\n      <td>10007</td>\n      <td>US</td>\n      <td>New York</td>\n      <td>NY</td>\n      <td>United States</td>\n      <td>[25 Murray St (at Church St), New York, NY 10007, United States]</td>\n      <td>at Church St</td>\n      <td>NaN</td>\n      <td>4c154c9a77cea593c401d260</td>\n    </tr>\n    <tr>\n      <th>4</th>\n      <td>Chambers Street Wines</td>\n      <td>Wine Shop</td>\n      <td>148 Chambers St</td>\n      <td>40.715773</td>\n      <td>-74.009718</td>\n      <td>[{'label': 'display', 'lat': 40.715773063928374, 'lng': -74.00971823312332}, {'label': 'entrance', 'lat': 40.715696, 'lng': -74.00988}]</td>\n      <td>88</td>\n      <td>10007</td>\n      <td>US</td>\n      <td>New York</td>\n      <td>NY</td>\n      <td>United States</td>\n      <td>[148 Chambers St (btwn West Broadway &amp; Hudson St), New York, NY 10007, United States]</td>\n      <td>btwn West Broadway &amp; Hudson St</td>\n      <td>NaN</td>\n      <td>4adcf23cf964a520cc6221e3</td>\n    </tr>\n    <tr>\n      <th>5</th>\n      <td>Takahachi</td>\n      <td>Sushi Restaurant</td>\n      <td>145 Duane St</td>\n      <td>40.716526</td>\n      <td>-74.008101</td>\n      <td>[{'label': 'display', 'lat': 40.71652647412374, 'lng': -74.00810108466207}, {'label': 'entrance', 'lat': 40.716508, 'lng': -74.007989}]</td>\n      <td>146</td>\n      <td>10013</td>\n      <td>US</td>\n      <td>New York</td>\n      <td>NY</td>\n      <td>United States</td>\n      <td>[145 Duane St (btwn W Broadway &amp; Church St), New York, NY 10013, United States]</td>\n      <td>btwn W Broadway &amp; Church St</td>\n      <td>NaN</td>\n      <td>4a8f2f39f964a520471420e3</td>\n    </tr>\n    <tr>\n      <th>6</th>\n      <td>Restaurant Marc Forgione</td>\n      <td>New American Restaurant</td>\n      <td>134 Reade St</td>\n      <td>40.716380</td>\n      <td>-74.009629</td>\n      <td>[{'label': 'display', 'lat': 40.71637984317071, 'lng': -74.00962933453428}]</td>\n      <td>133</td>\n      <td>10013</td>\n      <td>US</td>\n      <td>New York</td>\n      <td>NY</td>\n      <td>United States</td>\n      <td>[134 Reade St (btwn Hudson and Greenwich St), New York, NY 10013, United States]</td>\n      <td>btwn Hudson and Greenwich St</td>\n      <td>NaN</td>\n      <td>48510cf9f964a520a5501fe3</td>\n    </tr>\n    <tr>\n      <th>7</th>\n      <td>Exceed Physical Culture</td>\n      <td>Gym / Fitness Center</td>\n      <td>97 Reade St</td>\n      <td>40.715629</td>\n      <td>-74.007992</td>\n      <td>[{'label': 'display', 'lat': 40.7156286200256, 'lng': -74.0079922583853}, {'label': 'entrance', 'lat': 40.715589, 'lng': -74.008105}]</td>\n      <td>79</td>\n      <td>10013</td>\n      <td>US</td>\n      <td>New York</td>\n      <td>NY</td>\n      <td>United States</td>\n      <td>[97 Reade St (bet W Broadway &amp; Church St), New York, NY 10013, United States]</td>\n      <td>bet W Broadway &amp; Church St</td>\n      <td>Tribeca</td>\n      <td>53910ac3498e57a5dc0eb160</td>\n    </tr>\n    <tr>\n      <th>8</th>\n      <td>Lekka Burger</td>\n      <td>Burger Joint</td>\n      <td>81 Warren St</td>\n      <td>40.715246</td>\n      <td>-74.010559</td>\n      <td>[{'label': 'display', 'lat': 40.715246, 'lng': -74.010559}]</td>\n      <td>144</td>\n      <td>10007</td>\n      <td>US</td>\n      <td>New York</td>\n      <td>NY</td>\n      <td>United States</td>\n      <td>[81 Warren St (btw Greenwich &amp; West Broadway), New York, NY 10007, United States]</td>\n      <td>btw Greenwich &amp; West Broadway</td>\n      <td>NaN</td>\n      <td>5dc6f6a5ea8dfb00080f6faa</td>\n    </tr>\n    <tr>\n      <th>9</th>\n      <td>Nish Nūsh</td>\n      <td>Falafel Restaurant</td>\n      <td>88 Reade St</td>\n      <td>40.715537</td>\n      <td>-74.007725</td>\n      <td>[{'label': 'display', 'lat': 40.71553710116416, 'lng': -74.00772452925565}, {'label': 'entrance', 'lat': 40.715615, 'lng': -74.00773}]</td>\n      <td>97</td>\n      <td>10013</td>\n      <td>US</td>\n      <td>New York</td>\n      <td>NY</td>\n      <td>United States</td>\n      <td>[88 Reade St (at Church St), New York, NY 10013, United States]</td>\n      <td>at Church St</td>\n      <td>NaN</td>\n      <td>50ba9119e4b071a4bae6dc10</td>\n    </tr>\n  </tbody>\n</table>\n</div>"
     },
     "metadata": {},
     "execution_count": 78
    }
   ],
   "source": [
    "dataframe = json_normalize(items) # flatten JSON\n",
    "\n",
    "# filter columns\n",
    "filtered_columns = ['venue.name', 'venue.categories'] + [col for col in dataframe.columns if col.startswith('venue.location.')] + ['venue.id']\n",
    "dataframe_filtered = dataframe.loc[:, filtered_columns]\n",
    "\n",
    "# filter the category for each row\n",
    "dataframe_filtered['venue.categories'] = dataframe_filtered.apply(get_category_type, axis=1)\n",
    "\n",
    "# clean columns\n",
    "dataframe_filtered.columns = [col.split('.')[-1] for col in dataframe_filtered.columns]\n",
    "\n",
    "dataframe_filtered.head(10)"
   ]
  },
  {
   "cell_type": "markdown",
   "metadata": {
    "button": false,
    "deletable": true,
    "new_sheet": false,
    "run_control": {
     "read_only": false
    }
   },
   "source": [
    "#### Let's visualize these items on the map around our location"
   ]
  },
  {
   "cell_type": "code",
   "execution_count": 79,
   "metadata": {
    "button": false,
    "collapsed": false,
    "deletable": true,
    "new_sheet": false,
    "run_control": {
     "read_only": false
    }
   },
   "outputs": [
    {
     "output_type": "execute_result",
     "data": {
      "text/plain": "<folium.folium.Map at 0x148a8244520>",
      "text/html": "<div style=\"width:100%;\"><div style=\"position:relative;width:100%;height:0;padding-bottom:60%;\"><span style=\"color:#565656\">Make this Notebook Trusted to load map: File -> Trust Notebook</span><iframe src=\"about:blank\" style=\"position:absolute;width:100%;height:100%;left:0;top:0;border:none !important;\" data-html=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 onload=\"this.contentDocument.open();this.contentDocument.write(atob(this.getAttribute('data-html')));this.contentDocument.close();\" allowfullscreen webkitallowfullscreen mozallowfullscreen></iframe></div></div>"
     },
     "metadata": {},
     "execution_count": 79
    }
   ],
   "source": [
    "venues_map = folium.Map(location=[latitude, longitude], zoom_start=15) # generate map centred around Ecco\n",
    "\n",
    "\n",
    "# add Ecco as a red circle mark\n",
    "folium.CircleMarker(\n",
    "    [latitude, longitude],\n",
    "    radius=10,\n",
    "    popup='Ecco',\n",
    "    fill=True,\n",
    "    color='red',\n",
    "    fill_color='red',\n",
    "    fill_opacity=0.6\n",
    "    ).add_to(venues_map)\n",
    "\n",
    "\n",
    "# add popular spots to the map as blue circle markers\n",
    "for lat, lng, label in zip(dataframe_filtered.lat, dataframe_filtered.lng, dataframe_filtered.categories):\n",
    "    folium.CircleMarker(\n",
    "        [lat, lng],\n",
    "        radius=5,\n",
    "        popup=label,\n",
    "        fill=True,\n",
    "        color='blue',\n",
    "        fill_color='blue',\n",
    "        fill_opacity=0.6\n",
    "        ).add_to(venues_map)\n",
    "\n",
    "# display map\n",
    "venues_map"
   ]
  },
  {
   "cell_type": "markdown",
   "metadata": {
    "button": false,
    "deletable": true,
    "new_sheet": false,
    "run_control": {
     "read_only": false
    }
   },
   "source": [
    "   "
   ]
  },
  {
   "cell_type": "markdown",
   "metadata": {
    "button": false,
    "deletable": true,
    "new_sheet": false,
    "run_control": {
     "read_only": false
    }
   },
   "source": [
    "<a id=\"item5\"></a>"
   ]
  },
  {
   "cell_type": "markdown",
   "metadata": {
    "button": false,
    "deletable": true,
    "new_sheet": false,
    "run_control": {
     "read_only": false
    }
   },
   "source": [
    "## 5. Explore Trending Venues\n",
    "> `https://api.foursquare.com/v2/venues/`**trending**`?client_id=`**CLIENT_ID**`&client_secret=`**CLIENT_SECRET**`&ll=`**LATITUDE**`,`**LONGITUDE**`&v=`**VERSION**"
   ]
  },
  {
   "cell_type": "markdown",
   "metadata": {
    "button": false,
    "deletable": true,
    "new_sheet": false,
    "run_control": {
     "read_only": false
    }
   },
   "source": [
    "#### Now, instead of simply exploring the area around Ecco, you are interested in knowing the venues that are trending at the time you are done with your lunch, meaning the places with the highest foot traffic. So let's do that and get the trending venues around Ecco."
   ]
  },
  {
   "cell_type": "code",
   "execution_count": 55,
   "metadata": {
    "tags": []
   },
   "outputs": [
    {
     "output_type": "stream",
     "name": "stdout",
     "text": "40.715337 -74.008848\n"
    }
   ],
   "source": [
    "print(latitude, longitude)"
   ]
  },
  {
   "cell_type": "code",
   "execution_count": 81,
   "metadata": {},
   "outputs": [],
   "source": [
    "v_latitude = 49.246292\n",
    "v_longitude = -123.116226"
   ]
  },
  {
   "cell_type": "code",
   "execution_count": 100,
   "metadata": {},
   "outputs": [],
   "source": [
    "s_latitude = 37.6213129\n",
    "s_longitude = -122.3789554"
   ]
  },
  {
   "cell_type": "code",
   "execution_count": 101,
   "metadata": {
    "button": false,
    "collapsed": false,
    "deletable": true,
    "new_sheet": false,
    "run_control": {
     "read_only": false
    }
   },
   "outputs": [
    {
     "output_type": "execute_result",
     "data": {
      "text/plain": "{'meta': {'code': 200, 'requestId': '5f0de5c33395b26d60268be7'},\n 'response': {'venues': []}}"
     },
     "metadata": {},
     "execution_count": 101
    }
   ],
   "source": [
    "# define URL\n",
    "url = 'https://api.foursquare.com/v2/venues/trending?client_id={}&client_secret={}&ll={},{}&v={}'.format(CLIENT_ID, CLIENT_SECRET, s_latitude, s_longitude, VERSION)\n",
    "\n",
    "# send GET request and get trending venues\n",
    "results = requests.get(url).json()\n",
    "results"
   ]
  },
  {
   "cell_type": "markdown",
   "metadata": {
    "button": false,
    "deletable": true,
    "new_sheet": false,
    "run_control": {
     "read_only": false
    }
   },
   "source": [
    "### Check if any venues are trending at this time"
   ]
  },
  {
   "cell_type": "code",
   "execution_count": 51,
   "metadata": {
    "button": false,
    "collapsed": true,
    "deletable": true,
    "new_sheet": false,
    "run_control": {
     "read_only": false
    }
   },
   "outputs": [],
   "source": [
    "if len(results['response']['venues']) == 0:\n",
    "    trending_venues_df = 'No trending venues are available at the moment!'\n",
    "    \n",
    "else:\n",
    "    trending_venues = results['response']['venues']\n",
    "    trending_venues_df = json_normalize(trending_venues)\n",
    "\n",
    "    # filter columns\n",
    "    columns_filtered = ['name', 'categories'] + ['location.distance', 'location.city', 'location.postalCode', 'location.state', 'location.country', 'location.lat', 'location.lng']\n",
    "    trending_venues_df = trending_venues_df.loc[:, columns_filtered]\n",
    "\n",
    "    # filter the category for each row\n",
    "    trending_venues_df['categories'] = trending_venues_df.apply(get_category_type, axis=1)"
   ]
  },
  {
   "cell_type": "code",
   "execution_count": 52,
   "metadata": {
    "button": false,
    "collapsed": false,
    "deletable": true,
    "new_sheet": false,
    "run_control": {
     "read_only": false
    }
   },
   "outputs": [
    {
     "output_type": "execute_result",
     "data": {
      "text/plain": "'No trending venues are available at the moment!'"
     },
     "metadata": {},
     "execution_count": 52
    }
   ],
   "source": [
    "# display trending venues\n",
    "trending_venues_df"
   ]
  },
  {
   "cell_type": "markdown",
   "metadata": {
    "button": false,
    "deletable": true,
    "new_sheet": false,
    "run_control": {
     "read_only": false
    }
   },
   "source": [
    "Now, depending on when you run the above code, you might get different venues since the venues with the highest foot traffic are fetched live. "
   ]
  },
  {
   "cell_type": "markdown",
   "metadata": {
    "button": false,
    "deletable": true,
    "new_sheet": false,
    "run_control": {
     "read_only": false
    }
   },
   "source": [
    "### Visualize trending venues"
   ]
  },
  {
   "cell_type": "code",
   "execution_count": null,
   "metadata": {
    "button": false,
    "collapsed": false,
    "deletable": true,
    "new_sheet": false,
    "run_control": {
     "read_only": false
    }
   },
   "outputs": [],
   "source": [
    "if len(results['response']['venues']) == 0:\n",
    "    venues_map = 'Cannot generate visual as no trending venues are available at the moment!'\n",
    "\n",
    "else:\n",
    "    venues_map = folium.Map(location=[latitude, longitude], zoom_start=15) # generate map centred around Ecco\n",
    "\n",
    "\n",
    "    # add Ecco as a red circle mark\n",
    "    folium.features.CircleMarker(\n",
    "        [latitude, longitude],\n",
    "        radius=10,\n",
    "        popup='Ecco',\n",
    "        fill=True,\n",
    "        color='red',\n",
    "        fill_color='red',\n",
    "        fill_opacity=0.6\n",
    "    ).add_to(venues_map)\n",
    "\n",
    "\n",
    "    # add the trending venues as blue circle markers\n",
    "    for lat, lng, label in zip(trending_venues_df['location.lat'], trending_venues_df['location.lng'], trending_venues_df['name']):\n",
    "        folium.features.CircleMarker(\n",
    "            [lat, lng],\n",
    "            radius=5,\n",
    "            poup=label,\n",
    "            fill=True,\n",
    "            color='blue',\n",
    "            fill_color='blue',\n",
    "            fill_opacity=0.6\n",
    "        ).add_to(venues_map)"
   ]
  },
  {
   "cell_type": "code",
   "execution_count": null,
   "metadata": {
    "button": false,
    "collapsed": false,
    "deletable": true,
    "new_sheet": false,
    "run_control": {
     "read_only": false
    },
    "scrolled": false
   },
   "outputs": [],
   "source": [
    "# display map\n",
    "venues_map"
   ]
  },
  {
   "cell_type": "markdown",
   "metadata": {
    "button": false,
    "deletable": true,
    "new_sheet": false,
    "run_control": {
     "read_only": false
    }
   },
   "source": [
    "<a id=\"item6\"></a>"
   ]
  },
  {
   "cell_type": "markdown",
   "metadata": {
    "button": false,
    "deletable": true,
    "new_sheet": false,
    "run_control": {
     "read_only": false
    }
   },
   "source": [
    "   "
   ]
  },
  {
   "cell_type": "markdown",
   "metadata": {
    "button": false,
    "deletable": true,
    "new_sheet": false,
    "run_control": {
     "read_only": false
    }
   },
   "source": [
    "### Thank you for completing this lab!\n",
    "\n",
    "This notebook was created by [Alex Aklson](https://www.linkedin.com/in/aklson/). I hope you found this lab interesting and educational. Feel free to contact me if you have any questions!"
   ]
  },
  {
   "cell_type": "markdown",
   "metadata": {
    "button": false,
    "deletable": true,
    "new_sheet": false,
    "run_control": {
     "read_only": false
    }
   },
   "source": [
    "This notebook is part of a course on **Coursera** called *Applied Data Science Capstone*. If you accessed this notebook outside the course, you can take this course online by clicking [here](http://cocl.us/DP0701EN_Coursera_Week2_LAB1)."
   ]
  },
  {
   "cell_type": "markdown",
   "metadata": {
    "button": false,
    "deletable": true,
    "new_sheet": false,
    "run_control": {
     "read_only": false
    }
   },
   "source": [
    "<hr>\n",
    "Copyright &copy; 2018 [Cognitive Class](https://cognitiveclass.ai/?utm_source=bducopyrightlink&utm_medium=dswb&utm_campaign=bdu). This notebook and its source code are released under the terms of the [MIT License](https://bigdatauniversity.com/mit-license/)."
   ]
  }
 ],
 "metadata": {
  "kernelspec": {
   "display_name": "Python 3.8.3 64-bit",
   "language": "python",
   "name": "python_defaultSpec_1594743887244"
  },
  "language_info": {
   "codemirror_mode": {
    "name": "ipython",
    "version": 3
   },
   "file_extension": ".py",
   "mimetype": "text/x-python",
   "name": "python",
   "nbconvert_exporter": "python",
   "pygments_lexer": "ipython3",
   "version": "3.8.3-final"
  },
  "widgets": {
   "state": {},
   "version": "1.1.2"
  }
 },
 "nbformat": 4,
 "nbformat_minor": 2
}